{
  "nbformat": 4,
  "nbformat_minor": 0,
  "metadata": {
    "colab": {
      "name": "AMLProject1_montecarlo.ipynb",
      "provenance": [],
      "authorship_tag": "ABX9TyPpv7eIEoYAzCdKnOw7N9eC",
      "include_colab_link": true
    },
    "kernelspec": {
      "name": "python3",
      "display_name": "Python 3"
    },
    "language_info": {
      "name": "python"
    }
  },
  "cells": [
    {
      "cell_type": "markdown",
      "metadata": {
        "id": "view-in-github",
        "colab_type": "text"
      },
      "source": [
        "<a href=\"https://colab.research.google.com/github/spr-att/spra-tt.github.io/blob/main/AMLProject1_montecarlo.ipynb\" target=\"_parent\"><img src=\"https://colab.research.google.com/assets/colab-badge.svg\" alt=\"Open In Colab\"/></a>"
      ]
    },
    {
      "cell_type": "code",
      "source": [
        "import random\n",
        "import numpy as np\n",
        "from scipy.stats import beta, t\n",
        "import matplotlib.pyplot as plt"
      ],
      "metadata": {
        "id": "r_0d_yyYA_Pf"
      },
      "execution_count": null,
      "outputs": []
    },
    {
      "cell_type": "markdown",
      "source": [
        "**Question 1:**\n",
        "You're about to get on a plane to Boston. You want to know whether it is raining. You call 4 random friends of yours who live there and ask each one independently, if it's raining. The first two of your friends have a 1/2 chance of telling you the truth and, the other two have 1/4 chance of messing with you by lying. All 4 friends tell you that \"No\" it isn't raining. What is the probability that it's raining in Boston?"
      ],
      "metadata": {
        "id": "6QDNwTa__s4v"
      }
    },
    {
      "cell_type": "code",
      "source": [
        "weather = ['rain','no_rain']\n",
        "n = 10000\n",
        "total_rains = 0\n",
        "lies_rain = 0\n",
        "truth_norain = 0\n",
        "first_friends = ['truth', 'lie']\n",
        "other_friends = ['truth', 'truth', 'truth', 'lie']"
      ],
      "metadata": {
        "id": "TtSjSyBSA_0h"
      },
      "execution_count": null,
      "outputs": []
    },
    {
      "cell_type": "code",
      "source": [
        "# is it raining?\n",
        "for _i in range(n):\n",
        "  w = random.choice(weather)\n",
        "  if w == 'rain':\n",
        "    total_rains += 1\n",
        "# are my friends lying or telling the truth?\n",
        "  friend_1 = random.choice(first_friends)\n",
        "  friend_2 = random.choice(first_friends)\n",
        "  friend_3 = random.choice(other_friends)\n",
        "  friend_4 = random.choice(other_friends)\n",
        "# how many times do my friends lie and it rains?\n",
        "  if w == 'rain' and friend_1 == 'lie' and friend_2 == 'lie' and friend_3 == 'lie' and friend_4 == 'lie':\n",
        "    lies_rain += 1\n",
        "# how many times are my friends telling the truth and it doesn't rain?\n",
        "  if w == 'no_rain' and friend_1 == 'truth' and friend_2 == 'truth' and friend_3 == 'truth' and friend_4 == 'truth':\n",
        "    truth_norain += 1\n",
        "print(\"The probability that it is raining in Boston when all 4 of your friends told you it wasn't is: \" + str(lies_rain / total_rains))"
      ],
      "metadata": {
        "colab": {
          "base_uri": "https://localhost:8080/"
        },
        "id": "QLID5BR_A_-o",
        "outputId": "4ff36ab8-3c27-4a6e-c009-0915261ed9e4"
      },
      "execution_count": null,
      "outputs": [
        {
          "output_type": "stream",
          "name": "stdout",
          "text": [
            "The probability that it is raining in Boston when all 4 of your friends told you it wasn't is: 0.015552413653807311\n"
          ]
        }
      ]
    },
    {
      "cell_type": "markdown",
      "source": [
        "**Question 2:**\n",
        "Mad Max wants to travel from New York to Dallas by the shortest possible route. He may travel over the routes shown in the table below. Unfortunately, the Wicked Witch can block one road leading out of Atlanta and one road leading out of Nashville. Mad Max will not know which roads have been blocked until he arrives at Atlanta or Nashville. Should Mad Max start toward Atlanta or Nashville?\n",
        "\n",
        "Route\tLength of Route (miles)\n",
        "\n",
        "*   New York - Atlanta\t866\n",
        "*   New York - Nashville\t900\n",
        "*   Nashville - St. Louis\t309\n",
        "*   Nashville - New Orleans\t532\n",
        "*   Atlanta - St. Louis\t555\n",
        "*   Atlanta - New Orleans\t470\n",
        "*   St. Louis - Dallas\t662\n",
        "*   New Orleans - Dallas\t505"
      ],
      "metadata": {
        "id": "AYAvn2-Q__Bo"
      }
    },
    {
      "cell_type": "markdown",
      "source": [
        "**Paths for Mad Max**\n",
        "1. NY to Atlanta to St.Louis to Dallas = 2083 miles\n",
        "2. NY to Atlanta to New Orleans to Dallas = 1841 miles\n",
        "3. NY to Nashville to St.Louis to Dallas = 1871 miles\n",
        "4. NY to Nashville to New Orleans to Dallas = 1937 miles"
      ],
      "metadata": {
        "id": "W43xYHvojCl0"
      }
    },
    {
      "cell_type": "code",
      "source": [
        "wicked_witch = ['St.Louis', 'New Orleans']\n",
        "mad_max = ['Atlanta','Nashville']\n",
        "n = 10000\n",
        "longest_path = 0 #path2Atlanta\n",
        "shortest_path = 0 #path2Atlanta\n",
        "total_atlanta = 0\n",
        "short_path = 0 #path3Nashville\n",
        "long_path = 0 #path4Nashville\n",
        "total_nashville = 0"
      ],
      "metadata": {
        "id": "vu8L_khEBAtT"
      },
      "execution_count": null,
      "outputs": []
    },
    {
      "cell_type": "code",
      "source": [
        "# which way did mad max go?\n",
        "for _i in range(n):\n",
        "  p = random.choice(mad_max)\n",
        "  if p == 'Atlanta':\n",
        "    total_atlanta += 1\n",
        "  if p == 'Nashville':\n",
        "    total_nashville += 1\n",
        "# which way did the wicked witch block?\n",
        "  w = random.choice(wicked_witch)\n",
        "# When Mad Max went to Atlanta...\n",
        "  if p == 'Atlanta':\n",
        "# how many times did we get stuck with the longest path?\n",
        "    if w == 'New Orleans':\n",
        "      longest_path += 1\n",
        "# how many times did we get the shortest path?\n",
        "    if w == 'St.Louis':\n",
        "      shortest_path += 1\n",
        "# When Mad Max went to Nashville...\n",
        "  if p == 'Nashville':\n",
        "# how many times did we get the short path?\n",
        "    if w == 'New Orleans':\n",
        "      short_path += 1\n",
        "# how many times did we get the long path?\n",
        "    if w == 'St.Louis':\n",
        "      long_path += 1\n",
        "print(\"We get stuck with the longest path \" + str(longest_path / total_atlanta) + \" of the time we head towards Atlanta, which makes us travel 146 miles more than if we chose to head towards Nashville.\")"
      ],
      "metadata": {
        "colab": {
          "base_uri": "https://localhost:8080/"
        },
        "id": "Q8mnZaqWBA1N",
        "outputId": "7b35ec8e-a589-407a-ef27-9a2f057261a1"
      },
      "execution_count": null,
      "outputs": [
        {
          "output_type": "stream",
          "name": "stdout",
          "text": [
            "We get stuck with the longest path 0.49981686811174375 of the time we head towards Atlanta, which makes us travel 146 miles more than if we chose to head towards Nashville.\n"
          ]
        }
      ]
    },
    {
      "cell_type": "markdown",
      "source": [
        "**Question 3:**\n",
        "Simulate a population of 20000 individuals from a beta distribution that has the parametrization a=1.6 and b=2.1. Determine, via Monte Carlo simulations, what would be the smallest sample size when we draw simple random samples from this population, such that the distance between the sample mean and the population mean has at least 95% chances to be less than 0.06 units."
      ],
      "metadata": {
        "id": "D_wEJLAH__2F"
      }
    },
    {
      "cell_type": "code",
      "source": [
        "x = beta.rvs(size=20000, a=1.6, b=2.1)\n",
        "plt.hist(x)\n",
        "plt.show()\n",
        "mu=np.mean(x)\n",
        "sigma=np.std(x)\n",
        "k = 1000"
      ],
      "metadata": {
        "colab": {
          "base_uri": "https://localhost:8080/",
          "height": 265
        },
        "id": "FfgQYsTbBBia",
        "outputId": "2b9b3e02-d2ed-412c-9fcc-600123d3d22e"
      },
      "execution_count": null,
      "outputs": [
        {
          "output_type": "display_data",
          "data": {
            "image/png": "[encoded data removed]",
            "text/plain": [
              "<Figure size 432x288 with 1 Axes>"
            ]
          },
          "metadata": {
            "needs_background": "light"
          }
        }
      ]
    },
    {
      "cell_type": "code",
      "source": [
        "#n = list(range(100,49,-1))\n",
        "smallest_sample = 100\n",
        "for i in range(100,49,-1):\n",
        "  samples = np.array([np.random.choice(x,size=i,replace=True,p=None) for _i in range(k)])\n",
        "  means = np.mean(samples,axis=1)\n",
        "\n",
        "  counter = 0\n",
        "  for i in range(k):\n",
        "    if np.abs(means[i]-mu)<0.06:\n",
        "      counter += 1\n",
        "  chance = counter/k\n",
        "\n",
        "  if chance >= 0.95:\n",
        "    smallest_sample -= 1\n",
        "\n",
        "print(smallest_sample)"
      ],
      "metadata": {
        "colab": {
          "base_uri": "https://localhost:8080/"
        },
        "id": "HfrrFU9qaeEj",
        "outputId": "c39664c9-a531-4943-c84c-4e70217cef5d"
      },
      "execution_count": null,
      "outputs": [
        {
          "output_type": "stream",
          "name": "stdout",
          "text": [
            "56\n"
          ]
        }
      ]
    }
  ]
}