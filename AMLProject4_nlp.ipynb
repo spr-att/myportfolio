{
  "nbformat": 4,
  "nbformat_minor": 0,
  "metadata": {
    "colab": {
      "name": "AMLProject4_nlp.ipynb",
      "provenance": [],
      "collapsed_sections": [],
      "mount_file_id": "1vY2j5TES9Y4KOzEUIj47gHd67UlZ7oHX",
      "authorship_tag": "ABX9TyPkynDpdoZqW7FYVJFi3juk",
      "include_colab_link": true
    },
    "kernelspec": {
      "name": "python3",
      "display_name": "Python 3"
    },
    "language_info": {
      "name": "python"
    }
  },
  "cells": [
    {
      "cell_type": "markdown",
      "metadata": {
        "id": "view-in-github",
        "colab_type": "text"
      },
      "source": [
        "<a href=\"https://colab.research.google.com/github/spr-att/spra-tt.github.io/blob/main/AMLProject4_nlp.ipynb\" target=\"_parent\"><img src=\"https://colab.research.google.com/assets/colab-badge.svg\" alt=\"Open In Colab\"/></a>"
      ]
    },
    {
      "cell_type": "code",
      "execution_count": null,
      "metadata": {
        "id": "IVayR15DXWzy"
      },
      "outputs": [],
      "source": [
        "import numpy as np\n",
        "import pandas as pd\n",
        "import re\n",
        "import nltk\n",
        "from sklearn.linear_model import LogisticRegression\n",
        "from sklearn.svm import SVC\n",
        "from sklearn.neighbors import KNeighborsClassifier\n",
        "from sklearn.ensemble import RandomForestClassifier\n",
        "from sklearn.model_selection import StratifiedKFold\n",
        "from sklearn.feature_extraction.text import TfidfVectorizer\n",
        "from sklearn.metrics import accuracy_score as AC, confusion_matrix as CM\n",
        "from tqdm import tqdm"
      ]
    },
    {
      "cell_type": "code",
      "source": [
        "def modelvalidation(model,x,y,nfolds=5,rs=123):\n",
        "  skf = StratifiedKFold(n_splits=nfolds,shuffle=True,random_state=rs)\n",
        "  accuracies = []\n",
        "  confusions = []\n",
        "\n",
        "  for idxtrain, idxtest in tqdm(skf.split(x,y)):\n",
        "    xtrain = x[idxtrain]\n",
        "    ytrain = y[idxtrain]\n",
        "    xtest = x[idxtest]\n",
        "    ytest = y[idxtest]\n",
        "    model.fit(xtrain,ytrain)\n",
        "    accuracies.append(AC(ytest,model.predict(xtest)))\n",
        "    print(accuracies)\n",
        "    confusions.append(CM(ytest,model.predict(xtest)))\n",
        "  return accuracies, confusions"
      ],
      "metadata": {
        "id": "eYMYMcomo3eD"
      },
      "execution_count": null,
      "outputs": []
    },
    {
      "cell_type": "markdown",
      "source": [
        "The goal is to create a model that can predict the ClassificationLabel with great accuracy given the information in the rest of the columns.\n",
        "\n",
        "For the project you will have to make your own research approach to pre-processing of the data, the design, and testing different good models (Logistic Regression, Random forest, SVM, KNN) for classification. The results need to be validated and professionally presented, including confusion matrices and accuracies. \n",
        "\n",
        "Hint: A good model will yield an overall cross-validated accuracy of at least 96%. A model that might perform well: KNN(5 neighbors, weights = distance)."
      ],
      "metadata": {
        "id": "bc3fySKul1CV"
      }
    },
    {
      "cell_type": "code",
      "source": [
        "data = data = pd.read_csv('/content/drive/MyDrive/AML/Project4_Data.csv')"
      ],
      "metadata": {
        "id": "uG_xVDR6XboR"
      },
      "execution_count": null,
      "outputs": []
    },
    {
      "cell_type": "code",
      "source": [
        "data"
      ],
      "metadata": {
        "colab": {
          "base_uri": "https://localhost:8080/",
          "height": 520
        },
        "id": "axXWG-V4XxT2",
        "outputId": "a777d490-2197-42a3-ba44-b7a803c2c1d1"
      },
      "execution_count": null,
      "outputs": [
        {
          "output_type": "execute_result",
          "data": {
            "text/plain": [
              "                                                Col1      Col2       Col3  \\\n",
              "0                      Word1 Word2 Word3 Word4 Word5  44912133   3,575.00   \n",
              "1                                        Word6 Word7     10719   1,092.50   \n",
              "2                    Word8 Word9 Word10 Word11 Word5  4.80Z+11         75   \n",
              "3                                Word12 Word13 Word7     10731  30,980.00   \n",
              "4                    Word8 Word9 Word10 Word11 Word5  4.80F+11   3,766.80   \n",
              "...                                              ...       ...        ...   \n",
              "5894                   Word177 Word178 Word147 Word7    180LSY  16,880.00   \n",
              "5895                      Word16 Word17 Word18 Word7     BL398   4,200.00   \n",
              "5896  Word212 Word213 Word214 Word125 Word119 Word39     74211        170   \n",
              "5897                            Word148 Word75 Word5     11695  14,376.00   \n",
              "5898                       Word40 Word41 Word4 Word5      1868   1,820.00   \n",
              "\n",
              "                                       Col4        Col5  \\\n",
              "0                           Word771 Word772   8/31/2018   \n",
              "1                   Word711 Word773 Word774   8/31/2018   \n",
              "2                           Word775 Word776  10/31/2018   \n",
              "3     Word777 Word45 Word160 Word45 Word778    1/1/2018   \n",
              "4                   Word779 Word258 Word780    1/1/2018   \n",
              "...                                     ...         ...   \n",
              "5894               Word2127 Word705 Word825    3/1/2018   \n",
              "5895          Word785 Word330 Word99 Word26   6/30/2018   \n",
              "5896              Word1018 Word190 Word1403    1/1/2018   \n",
              "5897                        Word846 Word991    4/1/2018   \n",
              "5898       Word802 Word278 Word1242 Word803   7/31/2018   \n",
              "\n",
              "                                         Col6   Col7 ClassificationLabel  \n",
              "0             Word560 Word561 Word366 Word562   Doc1          Category_1  \n",
              "1                     Word563 Word366 Word562  NoDoc          Category_2  \n",
              "2                Word563 Word564 Word9 Word26  NoDoc          Category_1  \n",
              "3                             Word565 Word566  NoDoc          Category_1  \n",
              "4             Word567 Word568 Word569 Word570   Doc1          Category_1  \n",
              "...                                       ...    ...                 ...  \n",
              "5894                  Word576 Word366 Word562   Doc3          Category_1  \n",
              "5895             Word563 Word564 Word9 Word26  NoDoc          Category_1  \n",
              "5896                  Word563 Word608 Word609  NoDoc          Category_2  \n",
              "5897          Word560 Word561 Word315 Word638   Doc1          Category_1  \n",
              "5898  Word567 Word582 Word580 Word202 Word545   Doc1          Category_1  \n",
              "\n",
              "[5899 rows x 8 columns]"
            ],
            "text/html": [
              "\n",
              "  <div id=\"df-ca26b10c-75e8-4489-a6cf-9f698a1455f9\">\n",
              "    <div class=\"colab-df-container\">\n",
              "      <div>\n",
              "<style scoped>\n",
              "    .dataframe tbody tr th:only-of-type {\n",
              "        vertical-align: middle;\n",
              "    }\n",
              "\n",
              "    .dataframe tbody tr th {\n",
              "        vertical-align: top;\n",
              "    }\n",
              "\n",
              "    .dataframe thead th {\n",
              "        text-align: right;\n",
              "    }\n",
              "</style>\n",
              "<table border=\"1\" class=\"dataframe\">\n",
              "  <thead>\n",
              "    <tr style=\"text-align: right;\">\n",
              "      <th></th>\n",
              "      <th>Col1</th>\n",
              "      <th>Col2</th>\n",
              "      <th>Col3</th>\n",
              "      <th>Col4</th>\n",
              "      <th>Col5</th>\n",
              "      <th>Col6</th>\n",
              "      <th>Col7</th>\n",
              "      <th>ClassificationLabel</th>\n",
              "    </tr>\n",
              "  </thead>\n",
              "  <tbody>\n",
              "    <tr>\n",
              "      <th>0</th>\n",
              "      <td>Word1 Word2 Word3 Word4 Word5</td>\n",
              "      <td>44912133</td>\n",
              "      <td>3,575.00</td>\n",
              "      <td>Word771 Word772</td>\n",
              "      <td>8/31/2018</td>\n",
              "      <td>Word560 Word561 Word366 Word562</td>\n",
              "      <td>Doc1</td>\n",
              "      <td>Category_1</td>\n",
              "    </tr>\n",
              "    <tr>\n",
              "      <th>1</th>\n",
              "      <td>Word6 Word7</td>\n",
              "      <td>10719</td>\n",
              "      <td>1,092.50</td>\n",
              "      <td>Word711 Word773 Word774</td>\n",
              "      <td>8/31/2018</td>\n",
              "      <td>Word563 Word366 Word562</td>\n",
              "      <td>NoDoc</td>\n",
              "      <td>Category_2</td>\n",
              "    </tr>\n",
              "    <tr>\n",
              "      <th>2</th>\n",
              "      <td>Word8 Word9 Word10 Word11 Word5</td>\n",
              "      <td>4.80Z+11</td>\n",
              "      <td>75</td>\n",
              "      <td>Word775 Word776</td>\n",
              "      <td>10/31/2018</td>\n",
              "      <td>Word563 Word564 Word9 Word26</td>\n",
              "      <td>NoDoc</td>\n",
              "      <td>Category_1</td>\n",
              "    </tr>\n",
              "    <tr>\n",
              "      <th>3</th>\n",
              "      <td>Word12 Word13 Word7</td>\n",
              "      <td>10731</td>\n",
              "      <td>30,980.00</td>\n",
              "      <td>Word777 Word45 Word160 Word45 Word778</td>\n",
              "      <td>1/1/2018</td>\n",
              "      <td>Word565 Word566</td>\n",
              "      <td>NoDoc</td>\n",
              "      <td>Category_1</td>\n",
              "    </tr>\n",
              "    <tr>\n",
              "      <th>4</th>\n",
              "      <td>Word8 Word9 Word10 Word11 Word5</td>\n",
              "      <td>4.80F+11</td>\n",
              "      <td>3,766.80</td>\n",
              "      <td>Word779 Word258 Word780</td>\n",
              "      <td>1/1/2018</td>\n",
              "      <td>Word567 Word568 Word569 Word570</td>\n",
              "      <td>Doc1</td>\n",
              "      <td>Category_1</td>\n",
              "    </tr>\n",
              "    <tr>\n",
              "      <th>...</th>\n",
              "      <td>...</td>\n",
              "      <td>...</td>\n",
              "      <td>...</td>\n",
              "      <td>...</td>\n",
              "      <td>...</td>\n",
              "      <td>...</td>\n",
              "      <td>...</td>\n",
              "      <td>...</td>\n",
              "    </tr>\n",
              "    <tr>\n",
              "      <th>5894</th>\n",
              "      <td>Word177 Word178 Word147 Word7</td>\n",
              "      <td>180LSY</td>\n",
              "      <td>16,880.00</td>\n",
              "      <td>Word2127 Word705 Word825</td>\n",
              "      <td>3/1/2018</td>\n",
              "      <td>Word576 Word366 Word562</td>\n",
              "      <td>Doc3</td>\n",
              "      <td>Category_1</td>\n",
              "    </tr>\n",
              "    <tr>\n",
              "      <th>5895</th>\n",
              "      <td>Word16 Word17 Word18 Word7</td>\n",
              "      <td>BL398</td>\n",
              "      <td>4,200.00</td>\n",
              "      <td>Word785 Word330 Word99 Word26</td>\n",
              "      <td>6/30/2018</td>\n",
              "      <td>Word563 Word564 Word9 Word26</td>\n",
              "      <td>NoDoc</td>\n",
              "      <td>Category_1</td>\n",
              "    </tr>\n",
              "    <tr>\n",
              "      <th>5896</th>\n",
              "      <td>Word212 Word213 Word214 Word125 Word119 Word39</td>\n",
              "      <td>74211</td>\n",
              "      <td>170</td>\n",
              "      <td>Word1018 Word190 Word1403</td>\n",
              "      <td>1/1/2018</td>\n",
              "      <td>Word563 Word608 Word609</td>\n",
              "      <td>NoDoc</td>\n",
              "      <td>Category_2</td>\n",
              "    </tr>\n",
              "    <tr>\n",
              "      <th>5897</th>\n",
              "      <td>Word148 Word75 Word5</td>\n",
              "      <td>11695</td>\n",
              "      <td>14,376.00</td>\n",
              "      <td>Word846 Word991</td>\n",
              "      <td>4/1/2018</td>\n",
              "      <td>Word560 Word561 Word315 Word638</td>\n",
              "      <td>Doc1</td>\n",
              "      <td>Category_1</td>\n",
              "    </tr>\n",
              "    <tr>\n",
              "      <th>5898</th>\n",
              "      <td>Word40 Word41 Word4 Word5</td>\n",
              "      <td>1868</td>\n",
              "      <td>1,820.00</td>\n",
              "      <td>Word802 Word278 Word1242 Word803</td>\n",
              "      <td>7/31/2018</td>\n",
              "      <td>Word567 Word582 Word580 Word202 Word545</td>\n",
              "      <td>Doc1</td>\n",
              "      <td>Category_1</td>\n",
              "    </tr>\n",
              "  </tbody>\n",
              "</table>\n",
              "<p>5899 rows × 8 columns</p>\n",
              "</div>\n",
              "      <button class=\"colab-df-convert\" onclick=\"convertToInteractive('df-ca26b10c-75e8-4489-a6cf-9f698a1455f9')\"\n",
              "              title=\"Convert this dataframe to an interactive table.\"\n",
              "              style=\"display:none;\">\n",
              "        \n",
              "  <svg xmlns=\"http://www.w3.org/2000/svg\" height=\"24px\"viewBox=\"0 0 24 24\"\n",
              "       width=\"24px\">\n",
              "    <path d=\"M0 0h24v24H0V0z\" fill=\"none\"/>\n",
              "    <path d=\"M18.56 5.44l.94 2.06.94-2.06 2.06-.94-2.06-.94-.94-2.06-.94 2.06-2.06.94zm-11 1L8.5 8.5l.94-2.06 2.06-.94-2.06-.94L8.5 2.5l-.94 2.06-2.06.94zm10 10l.94 2.06.94-2.06 2.06-.94-2.06-.94-.94-2.06-.94 2.06-2.06.94z\"/><path d=\"M17.41 7.96l-1.37-1.37c-.4-.4-.92-.59-1.43-.59-.52 0-1.04.2-1.43.59L10.3 9.45l-7.72 7.72c-.78.78-.78 2.05 0 2.83L4 21.41c.39.39.9.59 1.41.59.51 0 1.02-.2 1.41-.59l7.78-7.78 2.81-2.81c.8-.78.8-2.07 0-2.86zM5.41 20L4 18.59l7.72-7.72 1.47 1.35L5.41 20z\"/>\n",
              "  </svg>\n",
              "      </button>\n",
              "      \n",
              "  <style>\n",
              "    .colab-df-container {\n",
              "      display:flex;\n",
              "      flex-wrap:wrap;\n",
              "      gap: 12px;\n",
              "    }\n",
              "\n",
              "    .colab-df-convert {\n",
              "      background-color: #E8F0FE;\n",
              "      border: none;\n",
              "      border-radius: 50%;\n",
              "      cursor: pointer;\n",
              "      display: none;\n",
              "      fill: #1967D2;\n",
              "      height: 32px;\n",
              "      padding: 0 0 0 0;\n",
              "      width: 32px;\n",
              "    }\n",
              "\n",
              "    .colab-df-convert:hover {\n",
              "      background-color: #E2EBFA;\n",
              "      box-shadow: 0px 1px 2px rgba(60, 64, 67, 0.3), 0px 1px 3px 1px rgba(60, 64, 67, 0.15);\n",
              "      fill: #174EA6;\n",
              "    }\n",
              "\n",
              "    [theme=dark] .colab-df-convert {\n",
              "      background-color: #3B4455;\n",
              "      fill: #D2E3FC;\n",
              "    }\n",
              "\n",
              "    [theme=dark] .colab-df-convert:hover {\n",
              "      background-color: #434B5C;\n",
              "      box-shadow: 0px 1px 3px 1px rgba(0, 0, 0, 0.15);\n",
              "      filter: drop-shadow(0px 1px 2px rgba(0, 0, 0, 0.3));\n",
              "      fill: #FFFFFF;\n",
              "    }\n",
              "  </style>\n",
              "\n",
              "      <script>\n",
              "        const buttonEl =\n",
              "          document.querySelector('#df-ca26b10c-75e8-4489-a6cf-9f698a1455f9 button.colab-df-convert');\n",
              "        buttonEl.style.display =\n",
              "          google.colab.kernel.accessAllowed ? 'block' : 'none';\n",
              "\n",
              "        async function convertToInteractive(key) {\n",
              "          const element = document.querySelector('#df-ca26b10c-75e8-4489-a6cf-9f698a1455f9');\n",
              "          const dataTable =\n",
              "            await google.colab.kernel.invokeFunction('convertToInteractive',\n",
              "                                                     [key], {});\n",
              "          if (!dataTable) return;\n",
              "\n",
              "          const docLinkHtml = 'Like what you see? Visit the ' +\n",
              "            '<a target=\"_blank\" href=https://colab.research.google.com/notebooks/data_table.ipynb>data table notebook</a>'\n",
              "            + ' to learn more about interactive tables.';\n",
              "          element.innerHTML = '';\n",
              "          dataTable['output_type'] = 'display_data';\n",
              "          await google.colab.output.renderOutput(dataTable, element);\n",
              "          const docLink = document.createElement('div');\n",
              "          docLink.innerHTML = docLinkHtml;\n",
              "          element.appendChild(docLink);\n",
              "        }\n",
              "      </script>\n",
              "    </div>\n",
              "  </div>\n",
              "  "
            ]
          },
          "metadata": {},
          "execution_count": 4
        }
      ]
    },
    {
      "cell_type": "code",
      "source": [
        "data['ClassificationLabel'] = data['ClassificationLabel'].replace('Category_1', '1')\n",
        "data['ClassificationLabel'] = data['ClassificationLabel'].replace('Category_2', '2')\n",
        "data['ClassificationLabel'] = data['ClassificationLabel'].replace('Category_3', '3')\n",
        "data['ClassificationLabel'] = data['ClassificationLabel'].replace('Category_4', '4')\n",
        "data['ClassificationLabel'] = data['ClassificationLabel'].replace('Category_5', '5')\n",
        "data['ClassificationLabel'] = data['ClassificationLabel'].replace('Category_6', '6')"
      ],
      "metadata": {
        "id": "oqAIs2eRdguI"
      },
      "execution_count": null,
      "outputs": []
    },
    {
      "cell_type": "code",
      "source": [
        "data"
      ],
      "metadata": {
        "colab": {
          "base_uri": "https://localhost:8080/",
          "height": 520
        },
        "id": "qMWaDm5EeD5E",
        "outputId": "18e681b1-1d11-45e6-8824-76ee1f304c48"
      },
      "execution_count": null,
      "outputs": [
        {
          "output_type": "execute_result",
          "data": {
            "text/plain": [
              "                                                Col1      Col2       Col3  \\\n",
              "0                      Word1 Word2 Word3 Word4 Word5  44912133   3,575.00   \n",
              "1                                        Word6 Word7     10719   1,092.50   \n",
              "2                    Word8 Word9 Word10 Word11 Word5  4.80Z+11         75   \n",
              "3                                Word12 Word13 Word7     10731  30,980.00   \n",
              "4                    Word8 Word9 Word10 Word11 Word5  4.80F+11   3,766.80   \n",
              "...                                              ...       ...        ...   \n",
              "5894                   Word177 Word178 Word147 Word7    180LSY  16,880.00   \n",
              "5895                      Word16 Word17 Word18 Word7     BL398   4,200.00   \n",
              "5896  Word212 Word213 Word214 Word125 Word119 Word39     74211        170   \n",
              "5897                            Word148 Word75 Word5     11695  14,376.00   \n",
              "5898                       Word40 Word41 Word4 Word5      1868   1,820.00   \n",
              "\n",
              "                                       Col4        Col5  \\\n",
              "0                           Word771 Word772   8/31/2018   \n",
              "1                   Word711 Word773 Word774   8/31/2018   \n",
              "2                           Word775 Word776  10/31/2018   \n",
              "3     Word777 Word45 Word160 Word45 Word778    1/1/2018   \n",
              "4                   Word779 Word258 Word780    1/1/2018   \n",
              "...                                     ...         ...   \n",
              "5894               Word2127 Word705 Word825    3/1/2018   \n",
              "5895          Word785 Word330 Word99 Word26   6/30/2018   \n",
              "5896              Word1018 Word190 Word1403    1/1/2018   \n",
              "5897                        Word846 Word991    4/1/2018   \n",
              "5898       Word802 Word278 Word1242 Word803   7/31/2018   \n",
              "\n",
              "                                         Col6 Col7 ClassificationLabel  \n",
              "0             Word560 Word561 Word366 Word562    1                   1  \n",
              "1                     Word563 Word366 Word562    0                   2  \n",
              "2                Word563 Word564 Word9 Word26    0                   1  \n",
              "3                             Word565 Word566    0                   1  \n",
              "4             Word567 Word568 Word569 Word570    1                   1  \n",
              "...                                       ...  ...                 ...  \n",
              "5894                  Word576 Word366 Word562    3                   1  \n",
              "5895             Word563 Word564 Word9 Word26    0                   1  \n",
              "5896                  Word563 Word608 Word609    0                   2  \n",
              "5897          Word560 Word561 Word315 Word638    1                   1  \n",
              "5898  Word567 Word582 Word580 Word202 Word545    1                   1  \n",
              "\n",
              "[5899 rows x 8 columns]"
            ],
            "text/html": [
              "\n",
              "  <div id=\"df-0a9a30a2-7bca-47ef-9732-5b43ad7a2fcb\">\n",
              "    <div class=\"colab-df-container\">\n",
              "      <div>\n",
              "<style scoped>\n",
              "    .dataframe tbody tr th:only-of-type {\n",
              "        vertical-align: middle;\n",
              "    }\n",
              "\n",
              "    .dataframe tbody tr th {\n",
              "        vertical-align: top;\n",
              "    }\n",
              "\n",
              "    .dataframe thead th {\n",
              "        text-align: right;\n",
              "    }\n",
              "</style>\n",
              "<table border=\"1\" class=\"dataframe\">\n",
              "  <thead>\n",
              "    <tr style=\"text-align: right;\">\n",
              "      <th></th>\n",
              "      <th>Col1</th>\n",
              "      <th>Col2</th>\n",
              "      <th>Col3</th>\n",
              "      <th>Col4</th>\n",
              "      <th>Col5</th>\n",
              "      <th>Col6</th>\n",
              "      <th>Col7</th>\n",
              "      <th>ClassificationLabel</th>\n",
              "    </tr>\n",
              "  </thead>\n",
              "  <tbody>\n",
              "    <tr>\n",
              "      <th>0</th>\n",
              "      <td>Word1 Word2 Word3 Word4 Word5</td>\n",
              "      <td>44912133</td>\n",
              "      <td>3,575.00</td>\n",
              "      <td>Word771 Word772</td>\n",
              "      <td>8/31/2018</td>\n",
              "      <td>Word560 Word561 Word366 Word562</td>\n",
              "      <td>1</td>\n",
              "      <td>1</td>\n",
              "    </tr>\n",
              "    <tr>\n",
              "      <th>1</th>\n",
              "      <td>Word6 Word7</td>\n",
              "      <td>10719</td>\n",
              "      <td>1,092.50</td>\n",
              "      <td>Word711 Word773 Word774</td>\n",
              "      <td>8/31/2018</td>\n",
              "      <td>Word563 Word366 Word562</td>\n",
              "      <td>0</td>\n",
              "      <td>2</td>\n",
              "    </tr>\n",
              "    <tr>\n",
              "      <th>2</th>\n",
              "      <td>Word8 Word9 Word10 Word11 Word5</td>\n",
              "      <td>4.80Z+11</td>\n",
              "      <td>75</td>\n",
              "      <td>Word775 Word776</td>\n",
              "      <td>10/31/2018</td>\n",
              "      <td>Word563 Word564 Word9 Word26</td>\n",
              "      <td>0</td>\n",
              "      <td>1</td>\n",
              "    </tr>\n",
              "    <tr>\n",
              "      <th>3</th>\n",
              "      <td>Word12 Word13 Word7</td>\n",
              "      <td>10731</td>\n",
              "      <td>30,980.00</td>\n",
              "      <td>Word777 Word45 Word160 Word45 Word778</td>\n",
              "      <td>1/1/2018</td>\n",
              "      <td>Word565 Word566</td>\n",
              "      <td>0</td>\n",
              "      <td>1</td>\n",
              "    </tr>\n",
              "    <tr>\n",
              "      <th>4</th>\n",
              "      <td>Word8 Word9 Word10 Word11 Word5</td>\n",
              "      <td>4.80F+11</td>\n",
              "      <td>3,766.80</td>\n",
              "      <td>Word779 Word258 Word780</td>\n",
              "      <td>1/1/2018</td>\n",
              "      <td>Word567 Word568 Word569 Word570</td>\n",
              "      <td>1</td>\n",
              "      <td>1</td>\n",
              "    </tr>\n",
              "    <tr>\n",
              "      <th>...</th>\n",
              "      <td>...</td>\n",
              "      <td>...</td>\n",
              "      <td>...</td>\n",
              "      <td>...</td>\n",
              "      <td>...</td>\n",
              "      <td>...</td>\n",
              "      <td>...</td>\n",
              "      <td>...</td>\n",
              "    </tr>\n",
              "    <tr>\n",
              "      <th>5894</th>\n",
              "      <td>Word177 Word178 Word147 Word7</td>\n",
              "      <td>180LSY</td>\n",
              "      <td>16,880.00</td>\n",
              "      <td>Word2127 Word705 Word825</td>\n",
              "      <td>3/1/2018</td>\n",
              "      <td>Word576 Word366 Word562</td>\n",
              "      <td>3</td>\n",
              "      <td>1</td>\n",
              "    </tr>\n",
              "    <tr>\n",
              "      <th>5895</th>\n",
              "      <td>Word16 Word17 Word18 Word7</td>\n",
              "      <td>BL398</td>\n",
              "      <td>4,200.00</td>\n",
              "      <td>Word785 Word330 Word99 Word26</td>\n",
              "      <td>6/30/2018</td>\n",
              "      <td>Word563 Word564 Word9 Word26</td>\n",
              "      <td>0</td>\n",
              "      <td>1</td>\n",
              "    </tr>\n",
              "    <tr>\n",
              "      <th>5896</th>\n",
              "      <td>Word212 Word213 Word214 Word125 Word119 Word39</td>\n",
              "      <td>74211</td>\n",
              "      <td>170</td>\n",
              "      <td>Word1018 Word190 Word1403</td>\n",
              "      <td>1/1/2018</td>\n",
              "      <td>Word563 Word608 Word609</td>\n",
              "      <td>0</td>\n",
              "      <td>2</td>\n",
              "    </tr>\n",
              "    <tr>\n",
              "      <th>5897</th>\n",
              "      <td>Word148 Word75 Word5</td>\n",
              "      <td>11695</td>\n",
              "      <td>14,376.00</td>\n",
              "      <td>Word846 Word991</td>\n",
              "      <td>4/1/2018</td>\n",
              "      <td>Word560 Word561 Word315 Word638</td>\n",
              "      <td>1</td>\n",
              "      <td>1</td>\n",
              "    </tr>\n",
              "    <tr>\n",
              "      <th>5898</th>\n",
              "      <td>Word40 Word41 Word4 Word5</td>\n",
              "      <td>1868</td>\n",
              "      <td>1,820.00</td>\n",
              "      <td>Word802 Word278 Word1242 Word803</td>\n",
              "      <td>7/31/2018</td>\n",
              "      <td>Word567 Word582 Word580 Word202 Word545</td>\n",
              "      <td>1</td>\n",
              "      <td>1</td>\n",
              "    </tr>\n",
              "  </tbody>\n",
              "</table>\n",
              "<p>5899 rows × 8 columns</p>\n",
              "</div>\n",
              "      <button class=\"colab-df-convert\" onclick=\"convertToInteractive('df-0a9a30a2-7bca-47ef-9732-5b43ad7a2fcb')\"\n",
              "              title=\"Convert this dataframe to an interactive table.\"\n",
              "              style=\"display:none;\">\n",
              "        \n",
              "  <svg xmlns=\"http://www.w3.org/2000/svg\" height=\"24px\"viewBox=\"0 0 24 24\"\n",
              "       width=\"24px\">\n",
              "    <path d=\"M0 0h24v24H0V0z\" fill=\"none\"/>\n",
              "    <path d=\"M18.56 5.44l.94 2.06.94-2.06 2.06-.94-2.06-.94-.94-2.06-.94 2.06-2.06.94zm-11 1L8.5 8.5l.94-2.06 2.06-.94-2.06-.94L8.5 2.5l-.94 2.06-2.06.94zm10 10l.94 2.06.94-2.06 2.06-.94-2.06-.94-.94-2.06-.94 2.06-2.06.94z\"/><path d=\"M17.41 7.96l-1.37-1.37c-.4-.4-.92-.59-1.43-.59-.52 0-1.04.2-1.43.59L10.3 9.45l-7.72 7.72c-.78.78-.78 2.05 0 2.83L4 21.41c.39.39.9.59 1.41.59.51 0 1.02-.2 1.41-.59l7.78-7.78 2.81-2.81c.8-.78.8-2.07 0-2.86zM5.41 20L4 18.59l7.72-7.72 1.47 1.35L5.41 20z\"/>\n",
              "  </svg>\n",
              "      </button>\n",
              "      \n",
              "  <style>\n",
              "    .colab-df-container {\n",
              "      display:flex;\n",
              "      flex-wrap:wrap;\n",
              "      gap: 12px;\n",
              "    }\n",
              "\n",
              "    .colab-df-convert {\n",
              "      background-color: #E8F0FE;\n",
              "      border: none;\n",
              "      border-radius: 50%;\n",
              "      cursor: pointer;\n",
              "      display: none;\n",
              "      fill: #1967D2;\n",
              "      height: 32px;\n",
              "      padding: 0 0 0 0;\n",
              "      width: 32px;\n",
              "    }\n",
              "\n",
              "    .colab-df-convert:hover {\n",
              "      background-color: #E2EBFA;\n",
              "      box-shadow: 0px 1px 2px rgba(60, 64, 67, 0.3), 0px 1px 3px 1px rgba(60, 64, 67, 0.15);\n",
              "      fill: #174EA6;\n",
              "    }\n",
              "\n",
              "    [theme=dark] .colab-df-convert {\n",
              "      background-color: #3B4455;\n",
              "      fill: #D2E3FC;\n",
              "    }\n",
              "\n",
              "    [theme=dark] .colab-df-convert:hover {\n",
              "      background-color: #434B5C;\n",
              "      box-shadow: 0px 1px 3px 1px rgba(0, 0, 0, 0.15);\n",
              "      filter: drop-shadow(0px 1px 2px rgba(0, 0, 0, 0.3));\n",
              "      fill: #FFFFFF;\n",
              "    }\n",
              "  </style>\n",
              "\n",
              "      <script>\n",
              "        const buttonEl =\n",
              "          document.querySelector('#df-0a9a30a2-7bca-47ef-9732-5b43ad7a2fcb button.colab-df-convert');\n",
              "        buttonEl.style.display =\n",
              "          google.colab.kernel.accessAllowed ? 'block' : 'none';\n",
              "\n",
              "        async function convertToInteractive(key) {\n",
              "          const element = document.querySelector('#df-0a9a30a2-7bca-47ef-9732-5b43ad7a2fcb');\n",
              "          const dataTable =\n",
              "            await google.colab.kernel.invokeFunction('convertToInteractive',\n",
              "                                                     [key], {});\n",
              "          if (!dataTable) return;\n",
              "\n",
              "          const docLinkHtml = 'Like what you see? Visit the ' +\n",
              "            '<a target=\"_blank\" href=https://colab.research.google.com/notebooks/data_table.ipynb>data table notebook</a>'\n",
              "            + ' to learn more about interactive tables.';\n",
              "          element.innerHTML = '';\n",
              "          dataTable['output_type'] = 'display_data';\n",
              "          await google.colab.output.renderOutput(dataTable, element);\n",
              "          const docLink = document.createElement('div');\n",
              "          docLink.innerHTML = docLinkHtml;\n",
              "          element.appendChild(docLink);\n",
              "        }\n",
              "      </script>\n",
              "    </div>\n",
              "  </div>\n",
              "  "
            ]
          },
          "metadata": {},
          "execution_count": 28
        }
      ]
    },
    {
      "cell_type": "code",
      "source": [
        "#Col1"
      ],
      "metadata": {
        "id": "rspg6MbJqLw0"
      },
      "execution_count": null,
      "outputs": []
    },
    {
      "cell_type": "code",
      "source": [
        "col1 = data.Col1.values + ' ' + 'fakeword' + ' '"
      ],
      "metadata": {
        "id": "OgY8LIEyhXl4"
      },
      "execution_count": null,
      "outputs": []
    },
    {
      "cell_type": "code",
      "source": [
        "joined_col1 = ' '\n",
        "\n",
        "for i in tqdm(range(len(col1))):\n",
        "  joined_col1 = joined_col1+col1[i]"
      ],
      "metadata": {
        "colab": {
          "base_uri": "https://localhost:8080/"
        },
        "id": "yWHl1mJjhaHm",
        "outputId": "9997db39-466f-4a89-d900-22a775e22e95"
      },
      "execution_count": null,
      "outputs": [
        {
          "output_type": "stream",
          "name": "stderr",
          "text": [
            "100%|██████████| 5899/5899 [00:00<00:00, 744484.54it/s]\n"
          ]
        }
      ]
    },
    {
      "cell_type": "code",
      "source": [
        "col1_final = joined_col1.split('fakeword')"
      ],
      "metadata": {
        "id": "WuOohxj0hhCT"
      },
      "execution_count": null,
      "outputs": []
    },
    {
      "cell_type": "code",
      "source": [
        "col1_final = col1_final[:-1]"
      ],
      "metadata": {
        "id": "KhdItMvUhjVX"
      },
      "execution_count": null,
      "outputs": []
    },
    {
      "cell_type": "code",
      "source": [
        "col1_final[-1]"
      ],
      "metadata": {
        "colab": {
          "base_uri": "https://localhost:8080/",
          "height": 35
        },
        "id": "pRqVtd-NoOzU",
        "outputId": "3273de44-0eb8-4284-fa21-ed09812fa8a2"
      },
      "execution_count": null,
      "outputs": [
        {
          "output_type": "execute_result",
          "data": {
            "text/plain": [
              "' Word40 Word41 Word4 Word5 '"
            ],
            "application/vnd.google.colaboratory.intrinsic+json": {
              "type": "string"
            }
          },
          "metadata": {},
          "execution_count": 11
        }
      ]
    },
    {
      "cell_type": "code",
      "source": [
        "vectorizer = TfidfVectorizer()\n",
        "x1 = vectorizer.fit_transform(col1_final)"
      ],
      "metadata": {
        "id": "ZG0mafcrgzd_"
      },
      "execution_count": null,
      "outputs": []
    },
    {
      "cell_type": "code",
      "source": [
        "#Col6"
      ],
      "metadata": {
        "id": "RnsPCyv4qHXS"
      },
      "execution_count": null,
      "outputs": []
    },
    {
      "cell_type": "code",
      "source": [
        "col6 = data.Col6.values + ' '+'fakeword'+' '"
      ],
      "metadata": {
        "id": "YtZahV4jqGm5"
      },
      "execution_count": null,
      "outputs": []
    },
    {
      "cell_type": "code",
      "source": [
        "joined_col6 = ' '\n",
        "\n",
        "for i in tqdm(range(len(col6))):\n",
        "  joined_col6 = joined_col6+col6[i]"
      ],
      "metadata": {
        "id": "pFqoDTitqPED",
        "colab": {
          "base_uri": "https://localhost:8080/"
        },
        "outputId": "530a78a6-8d7b-4afb-fb8d-5199a4002943"
      },
      "execution_count": null,
      "outputs": [
        {
          "output_type": "stream",
          "name": "stderr",
          "text": [
            "100%|██████████| 5899/5899 [00:00<00:00, 794088.17it/s]\n"
          ]
        }
      ]
    },
    {
      "cell_type": "code",
      "source": [
        "col6_final = joined_col6.split('fakeword')"
      ],
      "metadata": {
        "id": "01KrluaJqPHY"
      },
      "execution_count": null,
      "outputs": []
    },
    {
      "cell_type": "code",
      "source": [
        "col6_final = col6_final[:-1]"
      ],
      "metadata": {
        "id": "hzFNvcKJqTA-"
      },
      "execution_count": null,
      "outputs": []
    },
    {
      "cell_type": "code",
      "source": [
        "col6_final[-1]"
      ],
      "metadata": {
        "id": "qJRuFcIXqTDt",
        "colab": {
          "base_uri": "https://localhost:8080/",
          "height": 35
        },
        "outputId": "d056011d-6f15-4e34-bd03-72c607290b93"
      },
      "execution_count": null,
      "outputs": [
        {
          "output_type": "execute_result",
          "data": {
            "text/plain": [
              "' Word567 Word582 Word580 Word202 Word545 '"
            ],
            "application/vnd.google.colaboratory.intrinsic+json": {
              "type": "string"
            }
          },
          "metadata": {},
          "execution_count": 21
        }
      ]
    },
    {
      "cell_type": "code",
      "source": [
        "vectorizer = TfidfVectorizer()\n",
        "x6 = vectorizer.fit_transform(col6_final)"
      ],
      "metadata": {
        "id": "_7ev1HEcqTGT"
      },
      "execution_count": null,
      "outputs": []
    },
    {
      "cell_type": "code",
      "source": [
        "#Col7"
      ],
      "metadata": {
        "id": "3S2Yz3g2jmHt"
      },
      "execution_count": null,
      "outputs": []
    },
    {
      "cell_type": "code",
      "source": [
        "data['Col7'] = data['Col7'].replace('NoDoc', '0')\n",
        "data['Col7'] = data['Col7'].replace('Doc1', '1')\n",
        "data['Col7'] = data['Col7'].replace('Doc2', '2')\n",
        "data['Col7'] = data['Col7'].replace('Doc3', '3')"
      ],
      "metadata": {
        "id": "i3lI18VMjDdS"
      },
      "execution_count": null,
      "outputs": []
    },
    {
      "cell_type": "code",
      "source": [
        "x7 = data['Col7'].values"
      ],
      "metadata": {
        "id": "WGKhmtjTjrUh"
      },
      "execution_count": null,
      "outputs": []
    },
    {
      "cell_type": "code",
      "source": [
        "x7 = x7.reshape(-1,1)"
      ],
      "metadata": {
        "id": "wAUfO5Y4lDO6"
      },
      "execution_count": null,
      "outputs": []
    },
    {
      "cell_type": "code",
      "source": [
        "#Target"
      ],
      "metadata": {
        "id": "gVb3-xo3jxVh"
      },
      "execution_count": null,
      "outputs": []
    },
    {
      "cell_type": "code",
      "source": [
        "y = data['ClassificationLabel'].values"
      ],
      "metadata": {
        "id": "hovVEqa6e6Ad"
      },
      "execution_count": null,
      "outputs": []
    },
    {
      "cell_type": "code",
      "source": [
        "model1 = LogisticRegression(solver='lbfgs',max_iter=10000)\n",
        "model2 = RandomForestClassifier(n_estimators=100, max_depth=5)\n",
        "model3 = KNeighborsClassifier(n_neighbors=5,weights='distance')"
      ],
      "metadata": {
        "id": "RUkO6-xGo7hA"
      },
      "execution_count": null,
      "outputs": []
    },
    {
      "cell_type": "code",
      "source": [
        "#Input feature = Col1"
      ],
      "metadata": {
        "id": "8nUEjsApj3wP"
      },
      "execution_count": null,
      "outputs": []
    },
    {
      "cell_type": "code",
      "source": [
        "#Logistic Regression\n",
        "modelvalidation(model1,x1,y,5,123)"
      ],
      "metadata": {
        "colab": {
          "base_uri": "https://localhost:8080/"
        },
        "id": "61cDGirtjEBo",
        "outputId": "2d048d5a-2434-43d7-ca8e-adba7e36b5e9"
      },
      "execution_count": null,
      "outputs": [
        {
          "output_type": "stream",
          "name": "stderr",
          "text": [
            "\r0it [00:00, ?it/s]/usr/local/lib/python3.7/dist-packages/sklearn/model_selection/_split.py:680: UserWarning: The least populated class in y has only 1 members, which is less than n_splits=5.\n",
            "  UserWarning,\n",
            "1it [00:00,  1.76it/s]"
          ]
        },
        {
          "output_type": "stream",
          "name": "stdout",
          "text": [
            "[0.9245762711864407]\n"
          ]
        },
        {
          "output_type": "stream",
          "name": "stderr",
          "text": [
            "\r2it [00:00,  2.06it/s]"
          ]
        },
        {
          "output_type": "stream",
          "name": "stdout",
          "text": [
            "[0.9245762711864407, 0.9110169491525424]\n"
          ]
        },
        {
          "output_type": "stream",
          "name": "stderr",
          "text": [
            "\r3it [00:01,  2.08it/s]"
          ]
        },
        {
          "output_type": "stream",
          "name": "stdout",
          "text": [
            "[0.9245762711864407, 0.9110169491525424, 0.9203389830508475]\n"
          ]
        },
        {
          "output_type": "stream",
          "name": "stderr",
          "text": [
            "\r4it [00:01,  2.26it/s]"
          ]
        },
        {
          "output_type": "stream",
          "name": "stdout",
          "text": [
            "[0.9245762711864407, 0.9110169491525424, 0.9203389830508475, 0.9271186440677966]\n"
          ]
        },
        {
          "output_type": "stream",
          "name": "stderr",
          "text": [
            "5it [00:02,  2.19it/s]"
          ]
        },
        {
          "output_type": "stream",
          "name": "stdout",
          "text": [
            "[0.9245762711864407, 0.9110169491525424, 0.9203389830508475, 0.9271186440677966, 0.9126378286683631]\n"
          ]
        },
        {
          "output_type": "stream",
          "name": "stderr",
          "text": [
            "\n"
          ]
        },
        {
          "output_type": "execute_result",
          "data": {
            "text/plain": [
              "([0.9245762711864407,\n",
              "  0.9110169491525424,\n",
              "  0.9203389830508475,\n",
              "  0.9271186440677966,\n",
              "  0.9126378286683631],\n",
              " [array([[1030,   11,    0,    0,    0,    0,    0,    0,    0],\n",
              "         [  66,   60,    0,    0,    0,    0,    0,    0,    0],\n",
              "         [   1,    0,    1,    0,    0,    0,    0,    0,    0],\n",
              "         [   1,    0,    0,    0,    0,    0,    0,    0,    0],\n",
              "         [   1,    0,    1,    0,    0,    0,    0,    0,    0],\n",
              "         [   1,    0,    0,    0,    0,    0,    0,    0,    0],\n",
              "         [   2,    0,    1,    0,    0,    0,    0,    0,    0],\n",
              "         [   1,    0,    1,    0,    0,    0,    0,    0,    0],\n",
              "         [   2,    0,    0,    0,    0,    0,    0,    0,    0]]),\n",
              "  array([[1005,   36,    0,    0,    0,    0,    0,    0,    0],\n",
              "         [  57,   68,    0,    0,    0,    0,    0,    0,    0],\n",
              "         [   1,    0,    2,    0,    0,    0,    0,    0,    0],\n",
              "         [   0,    0,    2,    0,    0,    0,    0,    0,    0],\n",
              "         [   0,    1,    0,    0,    0,    0,    0,    0,    0],\n",
              "         [   0,    1,    0,    0,    0,    0,    0,    0,    0],\n",
              "         [   2,    0,    1,    0,    0,    0,    0,    0,    0],\n",
              "         [   1,    0,    1,    0,    0,    0,    0,    0,    0],\n",
              "         [   2,    0,    0,    0,    0,    0,    0,    0,    0]]),\n",
              "  array([[1035,    6,    0,    0,    0,    0,    0,    0,    0],\n",
              "         [  77,   48,    0,    0,    0,    0,    0,    0,    0],\n",
              "         [   0,    0,    3,    0,    0,    0,    0,    0,    0],\n",
              "         [   1,    0,    1,    0,    0,    0,    0,    0,    0],\n",
              "         [   0,    1,    0,    0,    0,    0,    0,    0,    0],\n",
              "         [   1,    0,    0,    0,    0,    0,    0,    0,    0],\n",
              "         [   3,    0,    0,    0,    0,    0,    0,    0,    0],\n",
              "         [   2,    0,    0,    0,    0,    0,    0,    0,    0],\n",
              "         [   2,    0,    0,    0,    0,    0,    0,    0,    0]]),\n",
              "  array([[1034,    7,    0,    0,    0,    0,    0,    0],\n",
              "         [  67,   58,    0,    0,    0,    0,    0,    0],\n",
              "         [   0,    0,    2,    0,    0,    0,    0,    0],\n",
              "         [   0,    0,    2,    0,    0,    0,    0,    0],\n",
              "         [   0,    0,    1,    0,    0,    0,    0,    0],\n",
              "         [   4,    0,    0,    0,    0,    0,    0,    0],\n",
              "         [   1,    0,    1,    0,    0,    0,    0,    0],\n",
              "         [   3,    0,    0,    0,    0,    0,    0,    0]]),\n",
              "  array([[1010,   30,    0,    0,    0,    0,    0,    0,    0],\n",
              "         [  62,   64,    0,    0,    0,    0,    0,    0,    0],\n",
              "         [   0,    0,    2,    0,    0,    0,    0,    0,    0],\n",
              "         [   1,    0,    0,    0,    0,    0,    0,    0,    0],\n",
              "         [   1,    0,    1,    0,    0,    0,    0,    0,    0],\n",
              "         [   0,    1,    0,    0,    0,    0,    0,    0,    0],\n",
              "         [   2,    0,    1,    0,    0,    0,    0,    0,    0],\n",
              "         [   2,    0,    0,    0,    0,    0,    0,    0,    0],\n",
              "         [   2,    0,    0,    0,    0,    0,    0,    0,    0]])])"
            ]
          },
          "metadata": {},
          "execution_count": 40
        }
      ]
    },
    {
      "cell_type": "code",
      "source": [
        "#Random Forest\n",
        "modelvalidation(model2,x1,y,5,123)"
      ],
      "metadata": {
        "colab": {
          "base_uri": "https://localhost:8080/"
        },
        "id": "DaiYvst1faux",
        "outputId": "275e32cb-4cf9-4098-9de1-2ec2130cf287"
      },
      "execution_count": null,
      "outputs": [
        {
          "output_type": "stream",
          "name": "stderr",
          "text": [
            "\r0it [00:00, ?it/s]/usr/local/lib/python3.7/dist-packages/sklearn/model_selection/_split.py:680: UserWarning: The least populated class in y has only 1 members, which is less than n_splits=5.\n",
            "  UserWarning,\n",
            "1it [00:00,  2.83it/s]"
          ]
        },
        {
          "output_type": "stream",
          "name": "stdout",
          "text": [
            "[0.911864406779661]\n"
          ]
        },
        {
          "output_type": "stream",
          "name": "stderr",
          "text": [
            "\r2it [00:00,  2.73it/s]"
          ]
        },
        {
          "output_type": "stream",
          "name": "stdout",
          "text": [
            "[0.911864406779661, 0.911864406779661]\n"
          ]
        },
        {
          "output_type": "stream",
          "name": "stderr",
          "text": [
            "\r3it [00:01,  2.64it/s]"
          ]
        },
        {
          "output_type": "stream",
          "name": "stdout",
          "text": [
            "[0.911864406779661, 0.911864406779661, 0.9135593220338983]\n"
          ]
        },
        {
          "output_type": "stream",
          "name": "stderr",
          "text": [
            "\r4it [00:01,  2.74it/s]"
          ]
        },
        {
          "output_type": "stream",
          "name": "stdout",
          "text": [
            "[0.911864406779661, 0.911864406779661, 0.9135593220338983, 0.9110169491525424]\n"
          ]
        },
        {
          "output_type": "stream",
          "name": "stderr",
          "text": [
            "5it [00:01,  2.72it/s]"
          ]
        },
        {
          "output_type": "stream",
          "name": "stdout",
          "text": [
            "[0.911864406779661, 0.911864406779661, 0.9135593220338983, 0.9110169491525424, 0.910941475826972]\n"
          ]
        },
        {
          "output_type": "stream",
          "name": "stderr",
          "text": [
            "\n"
          ]
        },
        {
          "output_type": "execute_result",
          "data": {
            "text/plain": [
              "([0.911864406779661,\n",
              "  0.911864406779661,\n",
              "  0.9135593220338983,\n",
              "  0.9110169491525424,\n",
              "  0.910941475826972],\n",
              " [array([[1039,    2,    0,    0,    0,    0,    0,    0,    0],\n",
              "         [  89,   37,    0,    0,    0,    0,    0,    0,    0],\n",
              "         [   2,    0,    0,    0,    0,    0,    0,    0,    0],\n",
              "         [   1,    0,    0,    0,    0,    0,    0,    0,    0],\n",
              "         [   2,    0,    0,    0,    0,    0,    0,    0,    0],\n",
              "         [   1,    0,    0,    0,    0,    0,    0,    0,    0],\n",
              "         [   3,    0,    0,    0,    0,    0,    0,    0,    0],\n",
              "         [   2,    0,    0,    0,    0,    0,    0,    0,    0],\n",
              "         [   2,    0,    0,    0,    0,    0,    0,    0,    0]]),\n",
              "  array([[1039,    2,    0,    0,    0,    0,    0,    0,    0],\n",
              "         [  88,   37,    0,    0,    0,    0,    0,    0,    0],\n",
              "         [   3,    0,    0,    0,    0,    0,    0,    0,    0],\n",
              "         [   2,    0,    0,    0,    0,    0,    0,    0,    0],\n",
              "         [   1,    0,    0,    0,    0,    0,    0,    0,    0],\n",
              "         [   0,    1,    0,    0,    0,    0,    0,    0,    0],\n",
              "         [   3,    0,    0,    0,    0,    0,    0,    0,    0],\n",
              "         [   2,    0,    0,    0,    0,    0,    0,    0,    0],\n",
              "         [   2,    0,    0,    0,    0,    0,    0,    0,    0]]),\n",
              "  array([[1039,    2,    0,    0,    0,    0,    0,    0,    0],\n",
              "         [  86,   39,    0,    0,    0,    0,    0,    0,    0],\n",
              "         [   3,    0,    0,    0,    0,    0,    0,    0,    0],\n",
              "         [   2,    0,    0,    0,    0,    0,    0,    0,    0],\n",
              "         [   1,    0,    0,    0,    0,    0,    0,    0,    0],\n",
              "         [   1,    0,    0,    0,    0,    0,    0,    0,    0],\n",
              "         [   3,    0,    0,    0,    0,    0,    0,    0,    0],\n",
              "         [   2,    0,    0,    0,    0,    0,    0,    0,    0],\n",
              "         [   2,    0,    0,    0,    0,    0,    0,    0,    0]]),\n",
              "  array([[1038,    3,    0,    0,    0,    0,    0,    0],\n",
              "         [  88,   37,    0,    0,    0,    0,    0,    0],\n",
              "         [   2,    0,    0,    0,    0,    0,    0,    0],\n",
              "         [   2,    0,    0,    0,    0,    0,    0,    0],\n",
              "         [   1,    0,    0,    0,    0,    0,    0,    0],\n",
              "         [   4,    0,    0,    0,    0,    0,    0,    0],\n",
              "         [   2,    0,    0,    0,    0,    0,    0,    0],\n",
              "         [   3,    0,    0,    0,    0,    0,    0,    0]]),\n",
              "  array([[1036,    4,    0,    0,    0,    0,    0,    0,    0],\n",
              "         [  88,   38,    0,    0,    0,    0,    0,    0,    0],\n",
              "         [   2,    0,    0,    0,    0,    0,    0,    0,    0],\n",
              "         [   1,    0,    0,    0,    0,    0,    0,    0,    0],\n",
              "         [   2,    0,    0,    0,    0,    0,    0,    0,    0],\n",
              "         [   0,    1,    0,    0,    0,    0,    0,    0,    0],\n",
              "         [   3,    0,    0,    0,    0,    0,    0,    0,    0],\n",
              "         [   2,    0,    0,    0,    0,    0,    0,    0,    0],\n",
              "         [   2,    0,    0,    0,    0,    0,    0,    0,    0]])])"
            ]
          },
          "metadata": {},
          "execution_count": 41
        }
      ]
    },
    {
      "cell_type": "code",
      "source": [
        "#KNN\n",
        "modelvalidation(model3,x1,y,5,123)"
      ],
      "metadata": {
        "colab": {
          "base_uri": "https://localhost:8080/"
        },
        "id": "2e1CY3msfbAt",
        "outputId": "7d61217b-59ac-4f34-a4fe-8abbc4d00046"
      },
      "execution_count": null,
      "outputs": [
        {
          "output_type": "stream",
          "name": "stderr",
          "text": [
            "\r0it [00:00, ?it/s]/usr/local/lib/python3.7/dist-packages/sklearn/model_selection/_split.py:680: UserWarning: The least populated class in y has only 1 members, which is less than n_splits=5.\n",
            "  UserWarning,\n",
            "1it [00:00,  2.48it/s]"
          ]
        },
        {
          "output_type": "stream",
          "name": "stdout",
          "text": [
            "[0.926271186440678]\n"
          ]
        },
        {
          "output_type": "stream",
          "name": "stderr",
          "text": [
            "\r2it [00:00,  2.87it/s]"
          ]
        },
        {
          "output_type": "stream",
          "name": "stdout",
          "text": [
            "[0.926271186440678, 0.9152542372881356]\n"
          ]
        },
        {
          "output_type": "stream",
          "name": "stderr",
          "text": [
            "\r3it [00:01,  3.10it/s]"
          ]
        },
        {
          "output_type": "stream",
          "name": "stdout",
          "text": [
            "[0.926271186440678, 0.9152542372881356, 0.9211864406779661]\n"
          ]
        },
        {
          "output_type": "stream",
          "name": "stderr",
          "text": [
            "\r4it [00:01,  3.15it/s]"
          ]
        },
        {
          "output_type": "stream",
          "name": "stdout",
          "text": [
            "[0.926271186440678, 0.9152542372881356, 0.9211864406779661, 0.9169491525423729]\n"
          ]
        },
        {
          "output_type": "stream",
          "name": "stderr",
          "text": [
            "5it [00:01,  3.10it/s]"
          ]
        },
        {
          "output_type": "stream",
          "name": "stdout",
          "text": [
            "[0.926271186440678, 0.9152542372881356, 0.9211864406779661, 0.9169491525423729, 0.9126378286683631]\n"
          ]
        },
        {
          "output_type": "stream",
          "name": "stderr",
          "text": [
            "\n"
          ]
        },
        {
          "output_type": "execute_result",
          "data": {
            "text/plain": [
              "([0.926271186440678,\n",
              "  0.9152542372881356,\n",
              "  0.9211864406779661,\n",
              "  0.9169491525423729,\n",
              "  0.9126378286683631],\n",
              " [array([[993,  48,   0,   0,   0,   0,   0,   0,   0],\n",
              "         [ 27,  99,   0,   0,   0,   0,   0,   0,   0],\n",
              "         [  0,   0,   1,   0,   0,   0,   1,   0,   0],\n",
              "         [  0,   1,   0,   0,   0,   0,   0,   0,   0],\n",
              "         [  1,   0,   1,   0,   0,   0,   0,   0,   0],\n",
              "         [  0,   1,   0,   0,   0,   0,   0,   0,   0],\n",
              "         [  2,   0,   1,   0,   0,   0,   0,   0,   0],\n",
              "         [  0,   1,   1,   0,   0,   0,   0,   0,   0],\n",
              "         [  2,   0,   0,   0,   0,   0,   0,   0,   0]]),\n",
              "  array([[1000,   39,    0,    0,    0,    0,    0,    1,    1],\n",
              "         [  47,   78,    0,    0,    0,    0,    0,    0,    0],\n",
              "         [   1,    0,    2,    0,    0,    0,    0,    0,    0],\n",
              "         [   0,    0,    2,    0,    0,    0,    0,    0,    0],\n",
              "         [   0,    1,    0,    0,    0,    0,    0,    0,    0],\n",
              "         [   0,    1,    0,    0,    0,    0,    0,    0,    0],\n",
              "         [   2,    0,    1,    0,    0,    0,    0,    0,    0],\n",
              "         [   1,    0,    1,    0,    0,    0,    0,    0,    0],\n",
              "         [   1,    1,    0,    0,    0,    0,    0,    0,    0]]),\n",
              "  array([[1026,   15,    0,    0,    0,    0,    0,    0,    0],\n",
              "         [  65,   60,    0,    0,    0,    0,    0,    0,    0],\n",
              "         [   0,    0,    0,    0,    0,    0,    3,    0,    0],\n",
              "         [   0,    0,    0,    1,    0,    0,    1,    0,    0],\n",
              "         [   0,    1,    0,    0,    0,    0,    0,    0,    0],\n",
              "         [   0,    1,    0,    0,    0,    0,    0,    0,    0],\n",
              "         [   2,    0,    1,    0,    0,    0,    0,    0,    0],\n",
              "         [   2,    0,    0,    0,    0,    0,    0,    0,    0],\n",
              "         [   2,    0,    0,    0,    0,    0,    0,    0,    0]]),\n",
              "  array([[997,  43,   0,   0,   0,   0,   1,   0],\n",
              "         [ 42,  83,   0,   0,   0,   0,   0,   0],\n",
              "         [  0,   0,   2,   0,   0,   0,   0,   0],\n",
              "         [  0,   0,   2,   0,   0,   0,   0,   0],\n",
              "         [  0,   0,   1,   0,   0,   0,   0,   0],\n",
              "         [  4,   0,   0,   0,   0,   0,   0,   0],\n",
              "         [  1,   0,   1,   0,   0,   0,   0,   0],\n",
              "         [  3,   0,   0,   0,   0,   0,   0,   0]]),\n",
              "  array([[1005,   35,    0,    0,    0,    0,    0,    0,    0],\n",
              "         [  58,   68,    0,    0,    0,    0,    0,    0,    0],\n",
              "         [   0,    0,    2,    0,    0,    0,    0,    0,    0],\n",
              "         [   1,    0,    0,    0,    0,    0,    0,    0,    0],\n",
              "         [   0,    0,    1,    0,    1,    0,    0,    0,    0],\n",
              "         [   0,    1,    0,    0,    0,    0,    0,    0,    0],\n",
              "         [   2,    0,    1,    0,    0,    0,    0,    0,    0],\n",
              "         [   2,    0,    0,    0,    0,    0,    0,    0,    0],\n",
              "         [   2,    0,    0,    0,    0,    0,    0,    0,    0]])])"
            ]
          },
          "metadata": {},
          "execution_count": 42
        }
      ]
    },
    {
      "cell_type": "code",
      "source": [
        "#Input feature = Col6"
      ],
      "metadata": {
        "id": "bFg4GmQHkfOF"
      },
      "execution_count": null,
      "outputs": []
    },
    {
      "cell_type": "code",
      "source": [
        "#Logistic Regression\n",
        "modelvalidation(model1,x6,y,5,123)"
      ],
      "metadata": {
        "colab": {
          "base_uri": "https://localhost:8080/"
        },
        "id": "vQYf58K-lrxd",
        "outputId": "4e3ffb5e-d948-4693-f8cd-c6270a906136"
      },
      "execution_count": null,
      "outputs": [
        {
          "output_type": "stream",
          "name": "stderr",
          "text": [
            "\r0it [00:00, ?it/s]/usr/local/lib/python3.7/dist-packages/sklearn/model_selection/_split.py:680: UserWarning: The least populated class in y has only 1 members, which is less than n_splits=5.\n",
            "  UserWarning,\n",
            "1it [00:00,  1.44it/s]"
          ]
        },
        {
          "output_type": "stream",
          "name": "stdout",
          "text": [
            "[0.9152542372881356]\n"
          ]
        },
        {
          "output_type": "stream",
          "name": "stderr",
          "text": [
            "\r2it [00:01,  1.95it/s]"
          ]
        },
        {
          "output_type": "stream",
          "name": "stdout",
          "text": [
            "[0.9152542372881356, 0.9186440677966101]\n"
          ]
        },
        {
          "output_type": "stream",
          "name": "stderr",
          "text": [
            "\r3it [00:01,  2.27it/s]"
          ]
        },
        {
          "output_type": "stream",
          "name": "stdout",
          "text": [
            "[0.9152542372881356, 0.9186440677966101, 0.9127118644067796]\n"
          ]
        },
        {
          "output_type": "stream",
          "name": "stderr",
          "text": [
            "\r4it [00:01,  2.66it/s]"
          ]
        },
        {
          "output_type": "stream",
          "name": "stdout",
          "text": [
            "[0.9152542372881356, 0.9186440677966101, 0.9127118644067796, 0.9135593220338983]\n"
          ]
        },
        {
          "output_type": "stream",
          "name": "stderr",
          "text": [
            "5it [00:02,  2.36it/s]"
          ]
        },
        {
          "output_type": "stream",
          "name": "stdout",
          "text": [
            "[0.9152542372881356, 0.9186440677966101, 0.9127118644067796, 0.9135593220338983, 0.9185750636132316]\n"
          ]
        },
        {
          "output_type": "stream",
          "name": "stderr",
          "text": [
            "\n"
          ]
        },
        {
          "output_type": "execute_result",
          "data": {
            "text/plain": [
              "([0.9152542372881356,\n",
              "  0.9186440677966101,\n",
              "  0.9127118644067796,\n",
              "  0.9135593220338983,\n",
              "  0.9185750636132316],\n",
              " [array([[1035,    6,    0,    0,    0,    0,    0,    0,    0],\n",
              "         [  81,   45,    0,    0,    0,    0,    0,    0,    0],\n",
              "         [   2,    0,    0,    0,    0,    0,    0,    0,    0],\n",
              "         [   1,    0,    0,    0,    0,    0,    0,    0,    0],\n",
              "         [   2,    0,    0,    0,    0,    0,    0,    0,    0],\n",
              "         [   1,    0,    0,    0,    0,    0,    0,    0,    0],\n",
              "         [   3,    0,    0,    0,    0,    0,    0,    0,    0],\n",
              "         [   2,    0,    0,    0,    0,    0,    0,    0,    0],\n",
              "         [   2,    0,    0,    0,    0,    0,    0,    0,    0]]),\n",
              "  array([[1034,    7,    0,    0,    0,    0,    0,    0,    0],\n",
              "         [  75,   50,    0,    0,    0,    0,    0,    0,    0],\n",
              "         [   3,    0,    0,    0,    0,    0,    0,    0,    0],\n",
              "         [   2,    0,    0,    0,    0,    0,    0,    0,    0],\n",
              "         [   1,    0,    0,    0,    0,    0,    0,    0,    0],\n",
              "         [   0,    1,    0,    0,    0,    0,    0,    0,    0],\n",
              "         [   3,    0,    0,    0,    0,    0,    0,    0,    0],\n",
              "         [   2,    0,    0,    0,    0,    0,    0,    0,    0],\n",
              "         [   2,    0,    0,    0,    0,    0,    0,    0,    0]]),\n",
              "  array([[1032,    9,    0,    0,    0,    0,    0,    0,    0],\n",
              "         [  80,   45,    0,    0,    0,    0,    0,    0,    0],\n",
              "         [   3,    0,    0,    0,    0,    0,    0,    0,    0],\n",
              "         [   2,    0,    0,    0,    0,    0,    0,    0,    0],\n",
              "         [   1,    0,    0,    0,    0,    0,    0,    0,    0],\n",
              "         [   1,    0,    0,    0,    0,    0,    0,    0,    0],\n",
              "         [   3,    0,    0,    0,    0,    0,    0,    0,    0],\n",
              "         [   2,    0,    0,    0,    0,    0,    0,    0,    0],\n",
              "         [   2,    0,    0,    0,    0,    0,    0,    0,    0]]),\n",
              "  array([[1030,   11,    0,    0,    0,    0,    0,    0],\n",
              "         [  77,   48,    0,    0,    0,    0,    0,    0],\n",
              "         [   2,    0,    0,    0,    0,    0,    0,    0],\n",
              "         [   2,    0,    0,    0,    0,    0,    0,    0],\n",
              "         [   1,    0,    0,    0,    0,    0,    0,    0],\n",
              "         [   4,    0,    0,    0,    0,    0,    0,    0],\n",
              "         [   2,    0,    0,    0,    0,    0,    0,    0],\n",
              "         [   3,    0,    0,    0,    0,    0,    0,    0]]),\n",
              "  array([[1030,   10,    0,    0,    0,    0,    0,    0,    0],\n",
              "         [  73,   53,    0,    0,    0,    0,    0,    0,    0],\n",
              "         [   2,    0,    0,    0,    0,    0,    0,    0,    0],\n",
              "         [   1,    0,    0,    0,    0,    0,    0,    0,    0],\n",
              "         [   2,    0,    0,    0,    0,    0,    0,    0,    0],\n",
              "         [   0,    1,    0,    0,    0,    0,    0,    0,    0],\n",
              "         [   3,    0,    0,    0,    0,    0,    0,    0,    0],\n",
              "         [   2,    0,    0,    0,    0,    0,    0,    0,    0],\n",
              "         [   2,    0,    0,    0,    0,    0,    0,    0,    0]])])"
            ]
          },
          "metadata": {},
          "execution_count": 42
        }
      ]
    },
    {
      "cell_type": "code",
      "source": [
        "#Random Forest\n",
        "modelvalidation(model2,x6,y,5,123)"
      ],
      "metadata": {
        "colab": {
          "base_uri": "https://localhost:8080/"
        },
        "id": "btpIqyfslvDz",
        "outputId": "4412889b-00f3-4eb2-dc78-8bf41f65cb19"
      },
      "execution_count": null,
      "outputs": [
        {
          "output_type": "stream",
          "name": "stderr",
          "text": [
            "\r0it [00:00, ?it/s]/usr/local/lib/python3.7/dist-packages/sklearn/model_selection/_split.py:680: UserWarning: The least populated class in y has only 1 members, which is less than n_splits=5.\n",
            "  UserWarning,\n",
            "1it [00:00,  3.49it/s]"
          ]
        },
        {
          "output_type": "stream",
          "name": "stdout",
          "text": [
            "[0.8822033898305085]\n"
          ]
        },
        {
          "output_type": "stream",
          "name": "stderr",
          "text": [
            "\r2it [00:00,  3.75it/s]"
          ]
        },
        {
          "output_type": "stream",
          "name": "stdout",
          "text": [
            "[0.8822033898305085, 0.8822033898305085]\n"
          ]
        },
        {
          "output_type": "stream",
          "name": "stderr",
          "text": [
            "\r3it [00:00,  3.60it/s]"
          ]
        },
        {
          "output_type": "stream",
          "name": "stdout",
          "text": [
            "[0.8822033898305085, 0.8822033898305085, 0.8822033898305085]\n"
          ]
        },
        {
          "output_type": "stream",
          "name": "stderr",
          "text": [
            "\r4it [00:01,  3.64it/s]"
          ]
        },
        {
          "output_type": "stream",
          "name": "stdout",
          "text": [
            "[0.8822033898305085, 0.8822033898305085, 0.8822033898305085, 0.8822033898305085]\n"
          ]
        },
        {
          "output_type": "stream",
          "name": "stderr",
          "text": [
            "5it [00:01,  3.58it/s]"
          ]
        },
        {
          "output_type": "stream",
          "name": "stdout",
          "text": [
            "[0.8822033898305085, 0.8822033898305085, 0.8822033898305085, 0.8822033898305085, 0.8821034775233249]\n"
          ]
        },
        {
          "output_type": "stream",
          "name": "stderr",
          "text": [
            "\n"
          ]
        },
        {
          "output_type": "execute_result",
          "data": {
            "text/plain": [
              "([0.8822033898305085,\n",
              "  0.8822033898305085,\n",
              "  0.8822033898305085,\n",
              "  0.8822033898305085,\n",
              "  0.8821034775233249],\n",
              " [array([[1041,    0,    0,    0,    0,    0,    0,    0,    0],\n",
              "         [ 126,    0,    0,    0,    0,    0,    0,    0,    0],\n",
              "         [   2,    0,    0,    0,    0,    0,    0,    0,    0],\n",
              "         [   1,    0,    0,    0,    0,    0,    0,    0,    0],\n",
              "         [   2,    0,    0,    0,    0,    0,    0,    0,    0],\n",
              "         [   1,    0,    0,    0,    0,    0,    0,    0,    0],\n",
              "         [   3,    0,    0,    0,    0,    0,    0,    0,    0],\n",
              "         [   2,    0,    0,    0,    0,    0,    0,    0,    0],\n",
              "         [   2,    0,    0,    0,    0,    0,    0,    0,    0]]),\n",
              "  array([[1041,    0,    0,    0,    0,    0,    0,    0,    0],\n",
              "         [ 125,    0,    0,    0,    0,    0,    0,    0,    0],\n",
              "         [   3,    0,    0,    0,    0,    0,    0,    0,    0],\n",
              "         [   2,    0,    0,    0,    0,    0,    0,    0,    0],\n",
              "         [   1,    0,    0,    0,    0,    0,    0,    0,    0],\n",
              "         [   1,    0,    0,    0,    0,    0,    0,    0,    0],\n",
              "         [   3,    0,    0,    0,    0,    0,    0,    0,    0],\n",
              "         [   2,    0,    0,    0,    0,    0,    0,    0,    0],\n",
              "         [   2,    0,    0,    0,    0,    0,    0,    0,    0]]),\n",
              "  array([[1041,    0,    0,    0,    0,    0,    0,    0,    0],\n",
              "         [ 125,    0,    0,    0,    0,    0,    0,    0,    0],\n",
              "         [   3,    0,    0,    0,    0,    0,    0,    0,    0],\n",
              "         [   2,    0,    0,    0,    0,    0,    0,    0,    0],\n",
              "         [   1,    0,    0,    0,    0,    0,    0,    0,    0],\n",
              "         [   1,    0,    0,    0,    0,    0,    0,    0,    0],\n",
              "         [   3,    0,    0,    0,    0,    0,    0,    0,    0],\n",
              "         [   2,    0,    0,    0,    0,    0,    0,    0,    0],\n",
              "         [   2,    0,    0,    0,    0,    0,    0,    0,    0]]),\n",
              "  array([[1041,    0,    0,    0,    0,    0,    0,    0],\n",
              "         [ 125,    0,    0,    0,    0,    0,    0,    0],\n",
              "         [   2,    0,    0,    0,    0,    0,    0,    0],\n",
              "         [   2,    0,    0,    0,    0,    0,    0,    0],\n",
              "         [   1,    0,    0,    0,    0,    0,    0,    0],\n",
              "         [   4,    0,    0,    0,    0,    0,    0,    0],\n",
              "         [   2,    0,    0,    0,    0,    0,    0,    0],\n",
              "         [   3,    0,    0,    0,    0,    0,    0,    0]]),\n",
              "  array([[1040,    0,    0,    0,    0,    0,    0,    0,    0],\n",
              "         [ 126,    0,    0,    0,    0,    0,    0,    0,    0],\n",
              "         [   2,    0,    0,    0,    0,    0,    0,    0,    0],\n",
              "         [   1,    0,    0,    0,    0,    0,    0,    0,    0],\n",
              "         [   2,    0,    0,    0,    0,    0,    0,    0,    0],\n",
              "         [   1,    0,    0,    0,    0,    0,    0,    0,    0],\n",
              "         [   3,    0,    0,    0,    0,    0,    0,    0,    0],\n",
              "         [   2,    0,    0,    0,    0,    0,    0,    0,    0],\n",
              "         [   2,    0,    0,    0,    0,    0,    0,    0,    0]])])"
            ]
          },
          "metadata": {},
          "execution_count": 43
        }
      ]
    },
    {
      "cell_type": "code",
      "source": [
        "#KNN\n",
        "modelvalidation(model3,x6,y,5,123)"
      ],
      "metadata": {
        "colab": {
          "base_uri": "https://localhost:8080/"
        },
        "id": "3vMUhNLZly8e",
        "outputId": "9956beed-1655-4765-8dab-c89c296c904c"
      },
      "execution_count": null,
      "outputs": [
        {
          "output_type": "stream",
          "name": "stderr",
          "text": [
            "\r0it [00:00, ?it/s]/usr/local/lib/python3.7/dist-packages/sklearn/model_selection/_split.py:680: UserWarning: The least populated class in y has only 1 members, which is less than n_splits=5.\n",
            "  UserWarning,\n",
            "1it [00:00,  3.00it/s]"
          ]
        },
        {
          "output_type": "stream",
          "name": "stdout",
          "text": [
            "[0.8796610169491526]\n"
          ]
        },
        {
          "output_type": "stream",
          "name": "stderr",
          "text": [
            "\r2it [00:00,  3.18it/s]"
          ]
        },
        {
          "output_type": "stream",
          "name": "stdout",
          "text": [
            "[0.8796610169491526, 0.9177966101694915]\n"
          ]
        },
        {
          "output_type": "stream",
          "name": "stderr",
          "text": [
            "\r3it [00:00,  3.29it/s]"
          ]
        },
        {
          "output_type": "stream",
          "name": "stdout",
          "text": [
            "[0.8796610169491526, 0.9177966101694915, 0.9076271186440678]\n"
          ]
        },
        {
          "output_type": "stream",
          "name": "stderr",
          "text": [
            "\r4it [00:01,  3.35it/s]"
          ]
        },
        {
          "output_type": "stream",
          "name": "stdout",
          "text": [
            "[0.8796610169491526, 0.9177966101694915, 0.9076271186440678, 0.9093220338983051]\n"
          ]
        },
        {
          "output_type": "stream",
          "name": "stderr",
          "text": [
            "5it [00:01,  3.32it/s]"
          ]
        },
        {
          "output_type": "stream",
          "name": "stdout",
          "text": [
            "[0.8796610169491526, 0.9177966101694915, 0.9076271186440678, 0.9093220338983051, 0.8744698897370653]\n"
          ]
        },
        {
          "output_type": "stream",
          "name": "stderr",
          "text": [
            "\n"
          ]
        },
        {
          "output_type": "execute_result",
          "data": {
            "text/plain": [
              "([0.8796610169491526,\n",
              "  0.9177966101694915,\n",
              "  0.9076271186440678,\n",
              "  0.9093220338983051,\n",
              "  0.8744698897370653],\n",
              " [array([[959,  81,   0,   0,   1,   0,   0,   0,   0],\n",
              "         [ 49,  77,   0,   0,   0,   0,   0,   0,   0],\n",
              "         [  0,   0,   1,   0,   1,   0,   0,   0,   0],\n",
              "         [  1,   0,   0,   0,   0,   0,   0,   0,   0],\n",
              "         [  0,   0,   1,   0,   1,   0,   0,   0,   0],\n",
              "         [  1,   0,   0,   0,   0,   0,   0,   0,   0],\n",
              "         [  2,   0,   0,   0,   1,   0,   0,   0,   0],\n",
              "         [  1,   0,   0,   0,   1,   0,   0,   0,   0],\n",
              "         [  2,   0,   0,   0,   0,   0,   0,   0,   0]]),\n",
              "  array([[1028,   11,    1,    0,    0,    0,    0,    1,    0],\n",
              "         [  74,   51,    0,    0,    0,    0,    0,    0,    0],\n",
              "         [   0,    0,    3,    0,    0,    0,    0,    0,    0],\n",
              "         [   0,    0,    2,    0,    0,    0,    0,    0,    0],\n",
              "         [   1,    0,    0,    0,    0,    0,    0,    0,    0],\n",
              "         [   0,    1,    0,    0,    0,    0,    0,    0,    0],\n",
              "         [   2,    0,    1,    0,    0,    0,    0,    0,    0],\n",
              "         [   0,    0,    1,    0,    0,    0,    0,    1,    0],\n",
              "         [   2,    0,    0,    0,    0,    0,    0,    0,    0]]),\n",
              "  array([[1024,   15,    0,    0,    0,    0,    2,    0,    0],\n",
              "         [  79,   46,    0,    0,    0,    0,    0,    0,    0],\n",
              "         [   3,    0,    0,    0,    0,    0,    0,    0,    0],\n",
              "         [   1,    0,    0,    1,    0,    0,    0,    0,    0],\n",
              "         [   0,    1,    0,    0,    0,    0,    0,    0,    0],\n",
              "         [   1,    0,    0,    0,    0,    0,    0,    0,    0],\n",
              "         [   2,    0,    1,    0,    0,    0,    0,    0,    0],\n",
              "         [   2,    0,    0,    0,    0,    0,    0,    0,    0],\n",
              "         [   2,    0,    0,    0,    0,    0,    0,    0,    0]]),\n",
              "  array([[1021,   18,    0,    1,    0,    0,    0,    1,    0],\n",
              "         [  73,   50,    0,    0,    2,    0,    0,    0,    0],\n",
              "         [   0,    0,    0,    2,    0,    0,    0,    0,    0],\n",
              "         [   0,    0,    0,    2,    0,    0,    0,    0,    0],\n",
              "         [   0,    0,    0,    0,    0,    0,    0,    0,    0],\n",
              "         [   0,    0,    0,    1,    0,    0,    0,    0,    0],\n",
              "         [   4,    0,    0,    0,    0,    0,    0,    0,    0],\n",
              "         [   1,    0,    0,    1,    0,    0,    0,    0,    0],\n",
              "         [   3,    0,    0,    0,    0,    0,    0,    0,    0]]),\n",
              "  array([[950,  88,   1,   0,   0,   0,   0,   1,   0],\n",
              "         [ 49,  77,   0,   0,   0,   0,   0,   0,   0],\n",
              "         [  0,   0,   2,   0,   0,   0,   0,   0,   0],\n",
              "         [  1,   0,   0,   0,   0,   0,   0,   0,   0],\n",
              "         [  0,   0,   1,   0,   1,   0,   0,   0,   0],\n",
              "         [  0,   1,   0,   0,   0,   0,   0,   0,   0],\n",
              "         [  2,   0,   1,   0,   0,   0,   0,   0,   0],\n",
              "         [  1,   0,   0,   0,   0,   0,   0,   1,   0],\n",
              "         [  2,   0,   0,   0,   0,   0,   0,   0,   0]])])"
            ]
          },
          "metadata": {},
          "execution_count": 44
        }
      ]
    },
    {
      "cell_type": "code",
      "source": [
        "#Input feature = Col7"
      ],
      "metadata": {
        "id": "Wp5Tl7crkgWl"
      },
      "execution_count": null,
      "outputs": []
    },
    {
      "cell_type": "code",
      "source": [
        "#Logistic Regression\n",
        "modelvalidation(model1,x7,y,5,123)"
      ],
      "metadata": {
        "colab": {
          "base_uri": "https://localhost:8080/"
        },
        "id": "lwCWojjukwVl",
        "outputId": "599adf0d-fdd8-412b-f6d7-710e4da83719"
      },
      "execution_count": null,
      "outputs": [
        {
          "output_type": "stream",
          "name": "stderr",
          "text": [
            "\r0it [00:00, ?it/s]/usr/local/lib/python3.7/dist-packages/sklearn/model_selection/_split.py:680: UserWarning: The least populated class in y has only 1 members, which is less than n_splits=5.\n",
            "  UserWarning,\n",
            "1it [00:00,  1.12it/s]"
          ]
        },
        {
          "output_type": "stream",
          "name": "stdout",
          "text": [
            "[0.8822033898305085]\n"
          ]
        },
        {
          "output_type": "stream",
          "name": "stderr",
          "text": [
            "\r2it [00:01,  1.15it/s]"
          ]
        },
        {
          "output_type": "stream",
          "name": "stdout",
          "text": [
            "[0.8822033898305085, 0.8822033898305085]\n"
          ]
        },
        {
          "output_type": "stream",
          "name": "stderr",
          "text": [
            "\r3it [00:02,  1.28it/s]"
          ]
        },
        {
          "output_type": "stream",
          "name": "stdout",
          "text": [
            "[0.8822033898305085, 0.8822033898305085, 0.8822033898305085]\n"
          ]
        },
        {
          "output_type": "stream",
          "name": "stderr",
          "text": [
            "\r4it [00:03,  1.41it/s]"
          ]
        },
        {
          "output_type": "stream",
          "name": "stdout",
          "text": [
            "[0.8822033898305085, 0.8822033898305085, 0.8822033898305085, 0.8822033898305085]\n"
          ]
        },
        {
          "output_type": "stream",
          "name": "stderr",
          "text": [
            "5it [00:03,  1.36it/s]"
          ]
        },
        {
          "output_type": "stream",
          "name": "stdout",
          "text": [
            "[0.8822033898305085, 0.8822033898305085, 0.8822033898305085, 0.8822033898305085, 0.8821034775233249]\n"
          ]
        },
        {
          "output_type": "stream",
          "name": "stderr",
          "text": [
            "\n"
          ]
        },
        {
          "output_type": "execute_result",
          "data": {
            "text/plain": [
              "([0.8822033898305085,\n",
              "  0.8822033898305085,\n",
              "  0.8822033898305085,\n",
              "  0.8822033898305085,\n",
              "  0.8821034775233249],\n",
              " [array([[1041,    0,    0,    0,    0,    0,    0,    0,    0],\n",
              "         [ 126,    0,    0,    0,    0,    0,    0,    0,    0],\n",
              "         [   2,    0,    0,    0,    0,    0,    0,    0,    0],\n",
              "         [   1,    0,    0,    0,    0,    0,    0,    0,    0],\n",
              "         [   2,    0,    0,    0,    0,    0,    0,    0,    0],\n",
              "         [   1,    0,    0,    0,    0,    0,    0,    0,    0],\n",
              "         [   3,    0,    0,    0,    0,    0,    0,    0,    0],\n",
              "         [   2,    0,    0,    0,    0,    0,    0,    0,    0],\n",
              "         [   2,    0,    0,    0,    0,    0,    0,    0,    0]]),\n",
              "  array([[1041,    0,    0,    0,    0,    0,    0,    0,    0],\n",
              "         [ 125,    0,    0,    0,    0,    0,    0,    0,    0],\n",
              "         [   3,    0,    0,    0,    0,    0,    0,    0,    0],\n",
              "         [   2,    0,    0,    0,    0,    0,    0,    0,    0],\n",
              "         [   1,    0,    0,    0,    0,    0,    0,    0,    0],\n",
              "         [   1,    0,    0,    0,    0,    0,    0,    0,    0],\n",
              "         [   3,    0,    0,    0,    0,    0,    0,    0,    0],\n",
              "         [   2,    0,    0,    0,    0,    0,    0,    0,    0],\n",
              "         [   2,    0,    0,    0,    0,    0,    0,    0,    0]]),\n",
              "  array([[1041,    0,    0,    0,    0,    0,    0,    0,    0],\n",
              "         [ 125,    0,    0,    0,    0,    0,    0,    0,    0],\n",
              "         [   3,    0,    0,    0,    0,    0,    0,    0,    0],\n",
              "         [   2,    0,    0,    0,    0,    0,    0,    0,    0],\n",
              "         [   1,    0,    0,    0,    0,    0,    0,    0,    0],\n",
              "         [   1,    0,    0,    0,    0,    0,    0,    0,    0],\n",
              "         [   3,    0,    0,    0,    0,    0,    0,    0,    0],\n",
              "         [   2,    0,    0,    0,    0,    0,    0,    0,    0],\n",
              "         [   2,    0,    0,    0,    0,    0,    0,    0,    0]]),\n",
              "  array([[1041,    0,    0,    0,    0,    0,    0,    0],\n",
              "         [ 125,    0,    0,    0,    0,    0,    0,    0],\n",
              "         [   2,    0,    0,    0,    0,    0,    0,    0],\n",
              "         [   2,    0,    0,    0,    0,    0,    0,    0],\n",
              "         [   1,    0,    0,    0,    0,    0,    0,    0],\n",
              "         [   4,    0,    0,    0,    0,    0,    0,    0],\n",
              "         [   2,    0,    0,    0,    0,    0,    0,    0],\n",
              "         [   3,    0,    0,    0,    0,    0,    0,    0]]),\n",
              "  array([[1040,    0,    0,    0,    0,    0,    0,    0,    0],\n",
              "         [ 126,    0,    0,    0,    0,    0,    0,    0,    0],\n",
              "         [   2,    0,    0,    0,    0,    0,    0,    0,    0],\n",
              "         [   1,    0,    0,    0,    0,    0,    0,    0,    0],\n",
              "         [   2,    0,    0,    0,    0,    0,    0,    0,    0],\n",
              "         [   1,    0,    0,    0,    0,    0,    0,    0,    0],\n",
              "         [   3,    0,    0,    0,    0,    0,    0,    0,    0],\n",
              "         [   2,    0,    0,    0,    0,    0,    0,    0,    0],\n",
              "         [   2,    0,    0,    0,    0,    0,    0,    0,    0]])])"
            ]
          },
          "metadata": {},
          "execution_count": 39
        }
      ]
    },
    {
      "cell_type": "code",
      "source": [
        "#Random Forest\n",
        "modelvalidation(model2,x7,y,5,123)"
      ],
      "metadata": {
        "colab": {
          "base_uri": "https://localhost:8080/"
        },
        "id": "-yEJ5t-ukqHb",
        "outputId": "33ace5f7-feab-40bd-f9a0-8cabc67970f8"
      },
      "execution_count": null,
      "outputs": [
        {
          "output_type": "stream",
          "name": "stderr",
          "text": [
            "\r0it [00:00, ?it/s]/usr/local/lib/python3.7/dist-packages/sklearn/model_selection/_split.py:680: UserWarning: The least populated class in y has only 1 members, which is less than n_splits=5.\n",
            "  UserWarning,\n",
            "1it [00:00,  4.51it/s]"
          ]
        },
        {
          "output_type": "stream",
          "name": "stdout",
          "text": [
            "[0.8822033898305085]\n"
          ]
        },
        {
          "output_type": "stream",
          "name": "stderr",
          "text": [
            "\r2it [00:00,  4.69it/s]"
          ]
        },
        {
          "output_type": "stream",
          "name": "stdout",
          "text": [
            "[0.8822033898305085, 0.8822033898305085]\n"
          ]
        },
        {
          "output_type": "stream",
          "name": "stderr",
          "text": [
            "\r3it [00:00,  4.72it/s]"
          ]
        },
        {
          "output_type": "stream",
          "name": "stdout",
          "text": [
            "[0.8822033898305085, 0.8822033898305085, 0.8822033898305085]\n"
          ]
        },
        {
          "output_type": "stream",
          "name": "stderr",
          "text": [
            "\r4it [00:00,  4.76it/s]"
          ]
        },
        {
          "output_type": "stream",
          "name": "stdout",
          "text": [
            "[0.8822033898305085, 0.8822033898305085, 0.8822033898305085, 0.8822033898305085]\n"
          ]
        },
        {
          "output_type": "stream",
          "name": "stderr",
          "text": [
            "5it [00:01,  4.72it/s]"
          ]
        },
        {
          "output_type": "stream",
          "name": "stdout",
          "text": [
            "[0.8822033898305085, 0.8822033898305085, 0.8822033898305085, 0.8822033898305085, 0.8821034775233249]\n"
          ]
        },
        {
          "output_type": "stream",
          "name": "stderr",
          "text": [
            "\n"
          ]
        },
        {
          "output_type": "execute_result",
          "data": {
            "text/plain": [
              "([0.8822033898305085,\n",
              "  0.8822033898305085,\n",
              "  0.8822033898305085,\n",
              "  0.8822033898305085,\n",
              "  0.8821034775233249],\n",
              " [array([[1041,    0,    0,    0,    0,    0,    0,    0,    0],\n",
              "         [ 126,    0,    0,    0,    0,    0,    0,    0,    0],\n",
              "         [   2,    0,    0,    0,    0,    0,    0,    0,    0],\n",
              "         [   1,    0,    0,    0,    0,    0,    0,    0,    0],\n",
              "         [   2,    0,    0,    0,    0,    0,    0,    0,    0],\n",
              "         [   1,    0,    0,    0,    0,    0,    0,    0,    0],\n",
              "         [   3,    0,    0,    0,    0,    0,    0,    0,    0],\n",
              "         [   2,    0,    0,    0,    0,    0,    0,    0,    0],\n",
              "         [   2,    0,    0,    0,    0,    0,    0,    0,    0]]),\n",
              "  array([[1041,    0,    0,    0,    0,    0,    0,    0,    0],\n",
              "         [ 125,    0,    0,    0,    0,    0,    0,    0,    0],\n",
              "         [   3,    0,    0,    0,    0,    0,    0,    0,    0],\n",
              "         [   2,    0,    0,    0,    0,    0,    0,    0,    0],\n",
              "         [   1,    0,    0,    0,    0,    0,    0,    0,    0],\n",
              "         [   1,    0,    0,    0,    0,    0,    0,    0,    0],\n",
              "         [   3,    0,    0,    0,    0,    0,    0,    0,    0],\n",
              "         [   2,    0,    0,    0,    0,    0,    0,    0,    0],\n",
              "         [   2,    0,    0,    0,    0,    0,    0,    0,    0]]),\n",
              "  array([[1041,    0,    0,    0,    0,    0,    0,    0,    0],\n",
              "         [ 125,    0,    0,    0,    0,    0,    0,    0,    0],\n",
              "         [   3,    0,    0,    0,    0,    0,    0,    0,    0],\n",
              "         [   2,    0,    0,    0,    0,    0,    0,    0,    0],\n",
              "         [   1,    0,    0,    0,    0,    0,    0,    0,    0],\n",
              "         [   1,    0,    0,    0,    0,    0,    0,    0,    0],\n",
              "         [   3,    0,    0,    0,    0,    0,    0,    0,    0],\n",
              "         [   2,    0,    0,    0,    0,    0,    0,    0,    0],\n",
              "         [   2,    0,    0,    0,    0,    0,    0,    0,    0]]),\n",
              "  array([[1041,    0,    0,    0,    0,    0,    0,    0],\n",
              "         [ 125,    0,    0,    0,    0,    0,    0,    0],\n",
              "         [   2,    0,    0,    0,    0,    0,    0,    0],\n",
              "         [   2,    0,    0,    0,    0,    0,    0,    0],\n",
              "         [   1,    0,    0,    0,    0,    0,    0,    0],\n",
              "         [   4,    0,    0,    0,    0,    0,    0,    0],\n",
              "         [   2,    0,    0,    0,    0,    0,    0,    0],\n",
              "         [   3,    0,    0,    0,    0,    0,    0,    0]]),\n",
              "  array([[1040,    0,    0,    0,    0,    0,    0,    0,    0],\n",
              "         [ 126,    0,    0,    0,    0,    0,    0,    0,    0],\n",
              "         [   2,    0,    0,    0,    0,    0,    0,    0,    0],\n",
              "         [   1,    0,    0,    0,    0,    0,    0,    0,    0],\n",
              "         [   2,    0,    0,    0,    0,    0,    0,    0,    0],\n",
              "         [   1,    0,    0,    0,    0,    0,    0,    0,    0],\n",
              "         [   3,    0,    0,    0,    0,    0,    0,    0,    0],\n",
              "         [   2,    0,    0,    0,    0,    0,    0,    0,    0],\n",
              "         [   2,    0,    0,    0,    0,    0,    0,    0,    0]])])"
            ]
          },
          "metadata": {},
          "execution_count": 40
        }
      ]
    },
    {
      "cell_type": "code",
      "source": [
        "#KNN\n",
        "modelvalidation(model3,x7,y,5,123)"
      ],
      "metadata": {
        "colab": {
          "base_uri": "https://localhost:8080/"
        },
        "id": "GoOCPFnFklkB",
        "outputId": "559f8c36-01eb-480d-a7e6-7c6bc8e6e986"
      },
      "execution_count": null,
      "outputs": [
        {
          "output_type": "stream",
          "name": "stderr",
          "text": [
            "0it [00:00, ?it/s]/usr/local/lib/python3.7/dist-packages/sklearn/model_selection/_split.py:680: UserWarning: The least populated class in y has only 1 members, which is less than n_splits=5.\n",
            "  UserWarning,\n",
            "2it [00:00, 14.67it/s]"
          ]
        },
        {
          "output_type": "stream",
          "name": "stdout",
          "text": [
            "[0.8822033898305085]\n",
            "[0.8822033898305085, 0.8822033898305085]\n",
            "[0.8822033898305085, 0.8822033898305085, 0.8822033898305085]\n",
            "[0.8822033898305085, 0.8822033898305085, 0.8822033898305085, 0.8822033898305085]\n"
          ]
        },
        {
          "output_type": "stream",
          "name": "stderr",
          "text": [
            "5it [00:00, 14.86it/s]"
          ]
        },
        {
          "output_type": "stream",
          "name": "stdout",
          "text": [
            "[0.8822033898305085, 0.8822033898305085, 0.8822033898305085, 0.8822033898305085, 0.8821034775233249]\n"
          ]
        },
        {
          "output_type": "stream",
          "name": "stderr",
          "text": [
            "\n"
          ]
        },
        {
          "output_type": "execute_result",
          "data": {
            "text/plain": [
              "([0.8822033898305085,\n",
              "  0.8822033898305085,\n",
              "  0.8822033898305085,\n",
              "  0.8822033898305085,\n",
              "  0.8821034775233249],\n",
              " [array([[1041,    0,    0,    0,    0,    0,    0,    0,    0],\n",
              "         [ 126,    0,    0,    0,    0,    0,    0,    0,    0],\n",
              "         [   2,    0,    0,    0,    0,    0,    0,    0,    0],\n",
              "         [   1,    0,    0,    0,    0,    0,    0,    0,    0],\n",
              "         [   2,    0,    0,    0,    0,    0,    0,    0,    0],\n",
              "         [   1,    0,    0,    0,    0,    0,    0,    0,    0],\n",
              "         [   3,    0,    0,    0,    0,    0,    0,    0,    0],\n",
              "         [   2,    0,    0,    0,    0,    0,    0,    0,    0],\n",
              "         [   2,    0,    0,    0,    0,    0,    0,    0,    0]]),\n",
              "  array([[1041,    0,    0,    0,    0,    0,    0,    0,    0],\n",
              "         [ 125,    0,    0,    0,    0,    0,    0,    0,    0],\n",
              "         [   3,    0,    0,    0,    0,    0,    0,    0,    0],\n",
              "         [   2,    0,    0,    0,    0,    0,    0,    0,    0],\n",
              "         [   1,    0,    0,    0,    0,    0,    0,    0,    0],\n",
              "         [   1,    0,    0,    0,    0,    0,    0,    0,    0],\n",
              "         [   3,    0,    0,    0,    0,    0,    0,    0,    0],\n",
              "         [   2,    0,    0,    0,    0,    0,    0,    0,    0],\n",
              "         [   2,    0,    0,    0,    0,    0,    0,    0,    0]]),\n",
              "  array([[1041,    0,    0,    0,    0,    0,    0,    0,    0],\n",
              "         [ 125,    0,    0,    0,    0,    0,    0,    0,    0],\n",
              "         [   3,    0,    0,    0,    0,    0,    0,    0,    0],\n",
              "         [   2,    0,    0,    0,    0,    0,    0,    0,    0],\n",
              "         [   1,    0,    0,    0,    0,    0,    0,    0,    0],\n",
              "         [   1,    0,    0,    0,    0,    0,    0,    0,    0],\n",
              "         [   3,    0,    0,    0,    0,    0,    0,    0,    0],\n",
              "         [   2,    0,    0,    0,    0,    0,    0,    0,    0],\n",
              "         [   2,    0,    0,    0,    0,    0,    0,    0,    0]]),\n",
              "  array([[1041,    0,    0,    0,    0,    0,    0,    0],\n",
              "         [ 125,    0,    0,    0,    0,    0,    0,    0],\n",
              "         [   2,    0,    0,    0,    0,    0,    0,    0],\n",
              "         [   2,    0,    0,    0,    0,    0,    0,    0],\n",
              "         [   1,    0,    0,    0,    0,    0,    0,    0],\n",
              "         [   4,    0,    0,    0,    0,    0,    0,    0],\n",
              "         [   2,    0,    0,    0,    0,    0,    0,    0],\n",
              "         [   3,    0,    0,    0,    0,    0,    0,    0]]),\n",
              "  array([[1040,    0,    0,    0,    0,    0,    0,    0,    0],\n",
              "         [ 126,    0,    0,    0,    0,    0,    0,    0,    0],\n",
              "         [   2,    0,    0,    0,    0,    0,    0,    0,    0],\n",
              "         [   1,    0,    0,    0,    0,    0,    0,    0,    0],\n",
              "         [   2,    0,    0,    0,    0,    0,    0,    0,    0],\n",
              "         [   1,    0,    0,    0,    0,    0,    0,    0,    0],\n",
              "         [   3,    0,    0,    0,    0,    0,    0,    0,    0],\n",
              "         [   2,    0,    0,    0,    0,    0,    0,    0,    0],\n",
              "         [   2,    0,    0,    0,    0,    0,    0,    0,    0]])])"
            ]
          },
          "metadata": {},
          "execution_count": 41
        }
      ]
    }
  ]
}