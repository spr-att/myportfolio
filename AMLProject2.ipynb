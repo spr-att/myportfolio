{
  "nbformat": 4,
  "nbformat_minor": 0,
  "metadata": {
    "colab": {
      "name": "AMLProject2.ipynb",
      "provenance": [],
      "collapsed_sections": [],
      "authorship_tag": "ABX9TyNpsEF99FE5EazK3hR/Jdea",
      "include_colab_link": true
    },
    "kernelspec": {
      "name": "python3",
      "display_name": "Python 3"
    },
    "language_info": {
      "name": "python"
    }
  },
  "cells": [
    {
      "cell_type": "markdown",
      "metadata": {
        "id": "view-in-github",
        "colab_type": "text"
      },
      "source": [
        "<a href=\"https://colab.research.google.com/github/spr-att/spra-tt.github.io/blob/main/AMLProject2.ipynb\" target=\"_parent\"><img src=\"https://colab.research.google.com/assets/colab-badge.svg\" alt=\"Open In Colab\"/></a>"
      ]
    },
    {
      "cell_type": "code",
      "execution_count": null,
      "metadata": {
        "id": "5NRc5q1of58X"
      },
      "outputs": [],
      "source": [
        "import numpy as np\n",
        "import operator\n",
        "import pandas as pd\n",
        "import matplotlib.pyplot as plt\n",
        "import random\n",
        "from sklearn.pipeline import Pipeline\n",
        "from sklearn.preprocessing import StandardScaler\n",
        "from sklearn.linear_model import LinearRegression\n",
        "from sklearn.metrics import r2_score\n",
        "from sklearn.preprocessing import PolynomialFeatures\n",
        "from sklearn.linear_model import LinearRegression,Ridge, Lasso, ElasticNet\n",
        "from sklearn.model_selection import KFold\n",
        "np.random.seed(123)"
      ]
    },
    {
      "cell_type": "markdown",
      "source": [
        "**Question 1:**\n",
        "Finish the noisy sine wave example introduced in class by fitting different polynomial models and determining what is the best degree.  Include a plot of the data and the fitted polynomial model; report the coefficient of determination."
      ],
      "metadata": {
        "id": "wSSUjNdahPhL"
      }
    },
    {
      "cell_type": "code",
      "source": [
        "x = np.linspace(0,np.pi,50)\n",
        "epsilon = np.random.normal(scale=0.2,size=x.shape)\n",
        "y = np.sin(4*x) + epsilon"
      ],
      "metadata": {
        "id": "LLsB2reG_TBr"
      },
      "execution_count": null,
      "outputs": []
    },
    {
      "cell_type": "code",
      "source": [
        "fig, ax = plt.subplots()\n",
        "plt.rcParams[\"figure.figsize\"] = (6,6) # here we setup a desired figure size.\n",
        "ax.scatter(x,y,ec='k',color='cyan',alpha=0.5) # we generate a scatter plot of x and y\n",
        "ax.set_xlim([0,np.pi]) # we set the bounds for the horizontal axis\n",
        "ax.set_xlabel('Input',fontsize=18)\n",
        "ax.set_ylabel('Output',fontsize=18)\n",
        "ax.grid(b=True,which='major', color ='grey', linestyle='-', alpha=0.8)\n",
        "ax.grid(b=True,which='minor', color ='grey', linestyle='--', alpha=0.2)\n",
        "ax.minorticks_on()\n",
        "plt.show()"
      ],
      "metadata": {
        "colab": {
          "base_uri": "https://localhost:8080/",
          "height": 287
        },
        "id": "3xzldDPV_UEi",
        "outputId": "78f306cd-bfc7-4b1f-8680-44ff69b72c39"
      },
      "execution_count": null,
      "outputs": [
        {
          "output_type": "display_data",
          "data": {
            "image/png": "[encoded data removed]",
            "text/plain": [
              "<Figure size 432x288 with 1 Axes>"
            ]
          },
          "metadata": {
            "needs_background": "light"
          }
        }
      ]
    },
    {
      "cell_type": "code",
      "source": [
        "# create polynomial features and \"guess\" the best degree for this example\n",
        "poly = PolynomialFeatures(degree=5)\n",
        "x_poly = poly.fit_transform(x.reshape((-1,1))) # in x_poly we get the polynomial features"
      ],
      "metadata": {
        "id": "GSoMen2l_ZIi"
      },
      "execution_count": null,
      "outputs": []
    },
    {
      "cell_type": "code",
      "source": [
        "# the model created is linear in weights \n",
        "model = LinearRegression()\n",
        "model.fit(x_poly, y) # so we fit linear regression of polynomial features\n",
        "y_poly_pred = model.predict(x_poly)"
      ],
      "metadata": {
        "id": "i5U49fas_pfB"
      },
      "execution_count": null,
      "outputs": []
    },
    {
      "cell_type": "code",
      "source": [
        "r2 = r2_score(y,y_poly_pred)\n",
        "print(r2)"
      ],
      "metadata": {
        "colab": {
          "base_uri": "https://localhost:8080/"
        },
        "id": "cjG1BqHk_qIm",
        "outputId": "09a57208-112f-46e9-9bce-fd5b3d97f6e2"
      },
      "execution_count": null,
      "outputs": [
        {
          "output_type": "stream",
          "name": "stdout",
          "text": [
            "0.8273496906692706\n"
          ]
        }
      ]
    },
    {
      "cell_type": "code",
      "source": [
        "fig, ax = plt.subplots()\n",
        "plt.rcParams[\"figure.figsize\"] = (6,6)\n",
        "ax.scatter(x, y, s=30,ec='k',color='cyan',alpha=0.5)\n",
        "# sort the values of x before line plot\n",
        "sort_axis = operator.itemgetter(0)\n",
        "sorted_zip = sorted(zip(x,y_poly_pred), key=sort_axis)\n",
        "x_sorted, y_poly_pred = zip(*sorted_zip)\n",
        "ax.plot(x_sorted, y_poly_pred, color='r',linestyle='--',lw=2)\n",
        "ax.set_xlabel('Input',fontsize=18)\n",
        "ax.set_ylabel('Output',fontsize=18)\n",
        "ax.grid(b=True,which='major', color ='grey', linestyle='-', alpha=0.8)\n",
        "ax.grid(b=True,which='minor', color ='grey', linestyle='--', alpha=0.2)\n",
        "ax.minorticks_on()\n",
        "plt.show()"
      ],
      "metadata": {
        "colab": {
          "base_uri": "https://localhost:8080/",
          "height": 396
        },
        "id": "e9UI5TGJA93M",
        "outputId": "d290196e-8dcb-43e4-b0fb-10026cbaaf9c"
      },
      "execution_count": null,
      "outputs": [
        {
          "output_type": "display_data",
          "data": {
            "image/png": "[encoded data removed]",
            "text/plain": [
              "<Figure size 432x432 with 1 Axes>"
            ]
          },
          "metadata": {
            "needs_background": "light"
          }
        }
      ]
    },
    {
      "cell_type": "markdown",
      "source": [
        "**Answer:**\n",
        "Above is a plot of the data showing the fitted polynomial model. There was a dramatic increase in the coefficient of determination from degree 4 to 5. Making 5 the best degree for this data with a (rounded) coefficient of determination of 0.82735."
      ],
      "metadata": {
        "id": "1jL0-kD4BCr4"
      }
    },
    {
      "cell_type": "markdown",
      "source": [
        "**Question 2:**\n",
        "Import (including the correct names of the variables) the data from the QSAR Fish Toxicity research. On the webpage you will find a description of the explanatory variables and the response (dependent) variable. Implement 10-fold cross validations and the correct data preprocessing, make polynomial models of degree 1, 2 and 3 and determine which degree achieves the best external validation.  For this, you will use the regularized regression models such as Ridge, Lasso and ElasticNet and you will also determine the best value of the hyperparameter alpha. In the case of ElasticNet, the second hyperparameter, L1 ratio, can be assumed to be 0.5."
      ],
      "metadata": {
        "id": "IE7QjQbohWxW"
      }
    },
    {
      "cell_type": "code",
      "source": [
        "from google.colab import drive\n",
        "drive.mount('/content/gdrive')\n",
        "fish_data = pd.read_csv('gdrive/MyDrive/AML/qsar_fish_toxicity_edit.csv')"
      ],
      "metadata": {
        "id": "GVwr_XZOgOrh",
        "colab": {
          "base_uri": "https://localhost:8080/"
        },
        "outputId": "79af3b19-d830-4997-9297-4833e9c73c2d"
      },
      "execution_count": null,
      "outputs": [
        {
          "output_type": "stream",
          "name": "stdout",
          "text": [
            "Drive already mounted at /content/gdrive; to attempt to forcibly remount, call drive.mount(\"/content/gdrive\", force_remount=True).\n"
          ]
        }
      ]
    },
    {
      "cell_type": "code",
      "source": [
        "fish_data"
      ],
      "metadata": {
        "colab": {
          "base_uri": "https://localhost:8080/",
          "height": 423
        },
        "id": "HS1Obbq0NVQs",
        "outputId": "37aed159-7be0-47d7-f987-0ed8628663aa"
      },
      "execution_count": null,
      "outputs": [
        {
          "output_type": "execute_result",
          "data": {
            "text/html": [
              "\n",
              "  <div id=\"df-61bd6622-7515-4334-abea-0babfb979bc1\">\n",
              "    <div class=\"colab-df-container\">\n",
              "      <div>\n",
              "<style scoped>\n",
              "    .dataframe tbody tr th:only-of-type {\n",
              "        vertical-align: middle;\n",
              "    }\n",
              "\n",
              "    .dataframe tbody tr th {\n",
              "        vertical-align: top;\n",
              "    }\n",
              "\n",
              "    .dataframe thead th {\n",
              "        text-align: right;\n",
              "    }\n",
              "</style>\n",
              "<table border=\"1\" class=\"dataframe\">\n",
              "  <thead>\n",
              "    <tr style=\"text-align: right;\">\n",
              "      <th></th>\n",
              "      <th>All</th>\n",
              "    </tr>\n",
              "  </thead>\n",
              "  <tbody>\n",
              "    <tr>\n",
              "      <th>0</th>\n",
              "      <td>3.26;0.829;1.676;0;1;1.453;3.770</td>\n",
              "    </tr>\n",
              "    <tr>\n",
              "      <th>1</th>\n",
              "      <td>2.189;0.58;0.863;0;0;1.348;3.115</td>\n",
              "    </tr>\n",
              "    <tr>\n",
              "      <th>2</th>\n",
              "      <td>2.125;0.638;0.831;0;0;1.348;3.531</td>\n",
              "    </tr>\n",
              "    <tr>\n",
              "      <th>3</th>\n",
              "      <td>3.027;0.331;1.472;1;0;1.807;3.510</td>\n",
              "    </tr>\n",
              "    <tr>\n",
              "      <th>4</th>\n",
              "      <td>2.094;0.827;0.86;0;0;1.886;5.390</td>\n",
              "    </tr>\n",
              "    <tr>\n",
              "      <th>...</th>\n",
              "      <td>...</td>\n",
              "    </tr>\n",
              "    <tr>\n",
              "      <th>903</th>\n",
              "      <td>2.801;0.728;2.226;0;2;0.736;3.109</td>\n",
              "    </tr>\n",
              "    <tr>\n",
              "      <th>904</th>\n",
              "      <td>3.652;0.872;0.867;2;3;3.983;4.040</td>\n",
              "    </tr>\n",
              "    <tr>\n",
              "      <th>905</th>\n",
              "      <td>3.763;0.916;0.878;0;6;2.918;4.818</td>\n",
              "    </tr>\n",
              "    <tr>\n",
              "      <th>906</th>\n",
              "      <td>2.831;1.393;1.077;0;1;0.906;5.317</td>\n",
              "    </tr>\n",
              "    <tr>\n",
              "      <th>907</th>\n",
              "      <td>4.057;1.032;1.183;1;3;4.754;8.201</td>\n",
              "    </tr>\n",
              "  </tbody>\n",
              "</table>\n",
              "<p>908 rows × 1 columns</p>\n",
              "</div>\n",
              "      <button class=\"colab-df-convert\" onclick=\"convertToInteractive('df-61bd6622-7515-4334-abea-0babfb979bc1')\"\n",
              "              title=\"Convert this dataframe to an interactive table.\"\n",
              "              style=\"display:none;\">\n",
              "        \n",
              "  <svg xmlns=\"http://www.w3.org/2000/svg\" height=\"24px\"viewBox=\"0 0 24 24\"\n",
              "       width=\"24px\">\n",
              "    <path d=\"M0 0h24v24H0V0z\" fill=\"none\"/>\n",
              "    <path d=\"M18.56 5.44l.94 2.06.94-2.06 2.06-.94-2.06-.94-.94-2.06-.94 2.06-2.06.94zm-11 1L8.5 8.5l.94-2.06 2.06-.94-2.06-.94L8.5 2.5l-.94 2.06-2.06.94zm10 10l.94 2.06.94-2.06 2.06-.94-2.06-.94-.94-2.06-.94 2.06-2.06.94z\"/><path d=\"M17.41 7.96l-1.37-1.37c-.4-.4-.92-.59-1.43-.59-.52 0-1.04.2-1.43.59L10.3 9.45l-7.72 7.72c-.78.78-.78 2.05 0 2.83L4 21.41c.39.39.9.59 1.41.59.51 0 1.02-.2 1.41-.59l7.78-7.78 2.81-2.81c.8-.78.8-2.07 0-2.86zM5.41 20L4 18.59l7.72-7.72 1.47 1.35L5.41 20z\"/>\n",
              "  </svg>\n",
              "      </button>\n",
              "      \n",
              "  <style>\n",
              "    .colab-df-container {\n",
              "      display:flex;\n",
              "      flex-wrap:wrap;\n",
              "      gap: 12px;\n",
              "    }\n",
              "\n",
              "    .colab-df-convert {\n",
              "      background-color: #E8F0FE;\n",
              "      border: none;\n",
              "      border-radius: 50%;\n",
              "      cursor: pointer;\n",
              "      display: none;\n",
              "      fill: #1967D2;\n",
              "      height: 32px;\n",
              "      padding: 0 0 0 0;\n",
              "      width: 32px;\n",
              "    }\n",
              "\n",
              "    .colab-df-convert:hover {\n",
              "      background-color: #E2EBFA;\n",
              "      box-shadow: 0px 1px 2px rgba(60, 64, 67, 0.3), 0px 1px 3px 1px rgba(60, 64, 67, 0.15);\n",
              "      fill: #174EA6;\n",
              "    }\n",
              "\n",
              "    [theme=dark] .colab-df-convert {\n",
              "      background-color: #3B4455;\n",
              "      fill: #D2E3FC;\n",
              "    }\n",
              "\n",
              "    [theme=dark] .colab-df-convert:hover {\n",
              "      background-color: #434B5C;\n",
              "      box-shadow: 0px 1px 3px 1px rgba(0, 0, 0, 0.15);\n",
              "      filter: drop-shadow(0px 1px 2px rgba(0, 0, 0, 0.3));\n",
              "      fill: #FFFFFF;\n",
              "    }\n",
              "  </style>\n",
              "\n",
              "      <script>\n",
              "        const buttonEl =\n",
              "          document.querySelector('#df-61bd6622-7515-4334-abea-0babfb979bc1 button.colab-df-convert');\n",
              "        buttonEl.style.display =\n",
              "          google.colab.kernel.accessAllowed ? 'block' : 'none';\n",
              "\n",
              "        async function convertToInteractive(key) {\n",
              "          const element = document.querySelector('#df-61bd6622-7515-4334-abea-0babfb979bc1');\n",
              "          const dataTable =\n",
              "            await google.colab.kernel.invokeFunction('convertToInteractive',\n",
              "                                                     [key], {});\n",
              "          if (!dataTable) return;\n",
              "\n",
              "          const docLinkHtml = 'Like what you see? Visit the ' +\n",
              "            '<a target=\"_blank\" href=https://colab.research.google.com/notebooks/data_table.ipynb>data table notebook</a>'\n",
              "            + ' to learn more about interactive tables.';\n",
              "          element.innerHTML = '';\n",
              "          dataTable['output_type'] = 'display_data';\n",
              "          await google.colab.output.renderOutput(dataTable, element);\n",
              "          const docLink = document.createElement('div');\n",
              "          docLink.innerHTML = docLinkHtml;\n",
              "          element.appendChild(docLink);\n",
              "        }\n",
              "      </script>\n",
              "    </div>\n",
              "  </div>\n",
              "  "
            ],
            "text/plain": [
              "                                   All\n",
              "0     3.26;0.829;1.676;0;1;1.453;3.770\n",
              "1     2.189;0.58;0.863;0;0;1.348;3.115\n",
              "2    2.125;0.638;0.831;0;0;1.348;3.531\n",
              "3    3.027;0.331;1.472;1;0;1.807;3.510\n",
              "4     2.094;0.827;0.86;0;0;1.886;5.390\n",
              "..                                 ...\n",
              "903  2.801;0.728;2.226;0;2;0.736;3.109\n",
              "904  3.652;0.872;0.867;2;3;3.983;4.040\n",
              "905  3.763;0.916;0.878;0;6;2.918;4.818\n",
              "906  2.831;1.393;1.077;0;1;0.906;5.317\n",
              "907  4.057;1.032;1.183;1;3;4.754;8.201\n",
              "\n",
              "[908 rows x 1 columns]"
            ]
          },
          "metadata": {},
          "execution_count": 3
        }
      ]
    },
    {
      "cell_type": "code",
      "source": [
        "fish_data[['CIC0','SM1_Dz(Z)','GATS1i','NdsCH','NdssC','MLOGP','LC50']] = fish_data['All'].str.split(';',expand=True)\n",
        "fish_data = fish_data.drop(columns = ['All'])\n",
        "fish_data"
      ],
      "metadata": {
        "colab": {
          "base_uri": "https://localhost:8080/",
          "height": 423
        },
        "id": "lQxLp1aDD_3z",
        "outputId": "c482cd70-d191-48eb-91b6-f2562f428821"
      },
      "execution_count": null,
      "outputs": [
        {
          "output_type": "execute_result",
          "data": {
            "text/html": [
              "\n",
              "  <div id=\"df-1545a055-5f75-4c6b-a69a-51bd35380761\">\n",
              "    <div class=\"colab-df-container\">\n",
              "      <div>\n",
              "<style scoped>\n",
              "    .dataframe tbody tr th:only-of-type {\n",
              "        vertical-align: middle;\n",
              "    }\n",
              "\n",
              "    .dataframe tbody tr th {\n",
              "        vertical-align: top;\n",
              "    }\n",
              "\n",
              "    .dataframe thead th {\n",
              "        text-align: right;\n",
              "    }\n",
              "</style>\n",
              "<table border=\"1\" class=\"dataframe\">\n",
              "  <thead>\n",
              "    <tr style=\"text-align: right;\">\n",
              "      <th></th>\n",
              "      <th>CIC0</th>\n",
              "      <th>SM1_Dz(Z)</th>\n",
              "      <th>GATS1i</th>\n",
              "      <th>NdsCH</th>\n",
              "      <th>NdssC</th>\n",
              "      <th>MLOGP</th>\n",
              "      <th>LC50</th>\n",
              "    </tr>\n",
              "  </thead>\n",
              "  <tbody>\n",
              "    <tr>\n",
              "      <th>0</th>\n",
              "      <td>3.26</td>\n",
              "      <td>0.829</td>\n",
              "      <td>1.676</td>\n",
              "      <td>0</td>\n",
              "      <td>1</td>\n",
              "      <td>1.453</td>\n",
              "      <td>3.770</td>\n",
              "    </tr>\n",
              "    <tr>\n",
              "      <th>1</th>\n",
              "      <td>2.189</td>\n",
              "      <td>0.58</td>\n",
              "      <td>0.863</td>\n",
              "      <td>0</td>\n",
              "      <td>0</td>\n",
              "      <td>1.348</td>\n",
              "      <td>3.115</td>\n",
              "    </tr>\n",
              "    <tr>\n",
              "      <th>2</th>\n",
              "      <td>2.125</td>\n",
              "      <td>0.638</td>\n",
              "      <td>0.831</td>\n",
              "      <td>0</td>\n",
              "      <td>0</td>\n",
              "      <td>1.348</td>\n",
              "      <td>3.531</td>\n",
              "    </tr>\n",
              "    <tr>\n",
              "      <th>3</th>\n",
              "      <td>3.027</td>\n",
              "      <td>0.331</td>\n",
              "      <td>1.472</td>\n",
              "      <td>1</td>\n",
              "      <td>0</td>\n",
              "      <td>1.807</td>\n",
              "      <td>3.510</td>\n",
              "    </tr>\n",
              "    <tr>\n",
              "      <th>4</th>\n",
              "      <td>2.094</td>\n",
              "      <td>0.827</td>\n",
              "      <td>0.86</td>\n",
              "      <td>0</td>\n",
              "      <td>0</td>\n",
              "      <td>1.886</td>\n",
              "      <td>5.390</td>\n",
              "    </tr>\n",
              "    <tr>\n",
              "      <th>...</th>\n",
              "      <td>...</td>\n",
              "      <td>...</td>\n",
              "      <td>...</td>\n",
              "      <td>...</td>\n",
              "      <td>...</td>\n",
              "      <td>...</td>\n",
              "      <td>...</td>\n",
              "    </tr>\n",
              "    <tr>\n",
              "      <th>903</th>\n",
              "      <td>2.801</td>\n",
              "      <td>0.728</td>\n",
              "      <td>2.226</td>\n",
              "      <td>0</td>\n",
              "      <td>2</td>\n",
              "      <td>0.736</td>\n",
              "      <td>3.109</td>\n",
              "    </tr>\n",
              "    <tr>\n",
              "      <th>904</th>\n",
              "      <td>3.652</td>\n",
              "      <td>0.872</td>\n",
              "      <td>0.867</td>\n",
              "      <td>2</td>\n",
              "      <td>3</td>\n",
              "      <td>3.983</td>\n",
              "      <td>4.040</td>\n",
              "    </tr>\n",
              "    <tr>\n",
              "      <th>905</th>\n",
              "      <td>3.763</td>\n",
              "      <td>0.916</td>\n",
              "      <td>0.878</td>\n",
              "      <td>0</td>\n",
              "      <td>6</td>\n",
              "      <td>2.918</td>\n",
              "      <td>4.818</td>\n",
              "    </tr>\n",
              "    <tr>\n",
              "      <th>906</th>\n",
              "      <td>2.831</td>\n",
              "      <td>1.393</td>\n",
              "      <td>1.077</td>\n",
              "      <td>0</td>\n",
              "      <td>1</td>\n",
              "      <td>0.906</td>\n",
              "      <td>5.317</td>\n",
              "    </tr>\n",
              "    <tr>\n",
              "      <th>907</th>\n",
              "      <td>4.057</td>\n",
              "      <td>1.032</td>\n",
              "      <td>1.183</td>\n",
              "      <td>1</td>\n",
              "      <td>3</td>\n",
              "      <td>4.754</td>\n",
              "      <td>8.201</td>\n",
              "    </tr>\n",
              "  </tbody>\n",
              "</table>\n",
              "<p>908 rows × 7 columns</p>\n",
              "</div>\n",
              "      <button class=\"colab-df-convert\" onclick=\"convertToInteractive('df-1545a055-5f75-4c6b-a69a-51bd35380761')\"\n",
              "              title=\"Convert this dataframe to an interactive table.\"\n",
              "              style=\"display:none;\">\n",
              "        \n",
              "  <svg xmlns=\"http://www.w3.org/2000/svg\" height=\"24px\"viewBox=\"0 0 24 24\"\n",
              "       width=\"24px\">\n",
              "    <path d=\"M0 0h24v24H0V0z\" fill=\"none\"/>\n",
              "    <path d=\"M18.56 5.44l.94 2.06.94-2.06 2.06-.94-2.06-.94-.94-2.06-.94 2.06-2.06.94zm-11 1L8.5 8.5l.94-2.06 2.06-.94-2.06-.94L8.5 2.5l-.94 2.06-2.06.94zm10 10l.94 2.06.94-2.06 2.06-.94-2.06-.94-.94-2.06-.94 2.06-2.06.94z\"/><path d=\"M17.41 7.96l-1.37-1.37c-.4-.4-.92-.59-1.43-.59-.52 0-1.04.2-1.43.59L10.3 9.45l-7.72 7.72c-.78.78-.78 2.05 0 2.83L4 21.41c.39.39.9.59 1.41.59.51 0 1.02-.2 1.41-.59l7.78-7.78 2.81-2.81c.8-.78.8-2.07 0-2.86zM5.41 20L4 18.59l7.72-7.72 1.47 1.35L5.41 20z\"/>\n",
              "  </svg>\n",
              "      </button>\n",
              "      \n",
              "  <style>\n",
              "    .colab-df-container {\n",
              "      display:flex;\n",
              "      flex-wrap:wrap;\n",
              "      gap: 12px;\n",
              "    }\n",
              "\n",
              "    .colab-df-convert {\n",
              "      background-color: #E8F0FE;\n",
              "      border: none;\n",
              "      border-radius: 50%;\n",
              "      cursor: pointer;\n",
              "      display: none;\n",
              "      fill: #1967D2;\n",
              "      height: 32px;\n",
              "      padding: 0 0 0 0;\n",
              "      width: 32px;\n",
              "    }\n",
              "\n",
              "    .colab-df-convert:hover {\n",
              "      background-color: #E2EBFA;\n",
              "      box-shadow: 0px 1px 2px rgba(60, 64, 67, 0.3), 0px 1px 3px 1px rgba(60, 64, 67, 0.15);\n",
              "      fill: #174EA6;\n",
              "    }\n",
              "\n",
              "    [theme=dark] .colab-df-convert {\n",
              "      background-color: #3B4455;\n",
              "      fill: #D2E3FC;\n",
              "    }\n",
              "\n",
              "    [theme=dark] .colab-df-convert:hover {\n",
              "      background-color: #434B5C;\n",
              "      box-shadow: 0px 1px 3px 1px rgba(0, 0, 0, 0.15);\n",
              "      filter: drop-shadow(0px 1px 2px rgba(0, 0, 0, 0.3));\n",
              "      fill: #FFFFFF;\n",
              "    }\n",
              "  </style>\n",
              "\n",
              "      <script>\n",
              "        const buttonEl =\n",
              "          document.querySelector('#df-1545a055-5f75-4c6b-a69a-51bd35380761 button.colab-df-convert');\n",
              "        buttonEl.style.display =\n",
              "          google.colab.kernel.accessAllowed ? 'block' : 'none';\n",
              "\n",
              "        async function convertToInteractive(key) {\n",
              "          const element = document.querySelector('#df-1545a055-5f75-4c6b-a69a-51bd35380761');\n",
              "          const dataTable =\n",
              "            await google.colab.kernel.invokeFunction('convertToInteractive',\n",
              "                                                     [key], {});\n",
              "          if (!dataTable) return;\n",
              "\n",
              "          const docLinkHtml = 'Like what you see? Visit the ' +\n",
              "            '<a target=\"_blank\" href=https://colab.research.google.com/notebooks/data_table.ipynb>data table notebook</a>'\n",
              "            + ' to learn more about interactive tables.';\n",
              "          element.innerHTML = '';\n",
              "          dataTable['output_type'] = 'display_data';\n",
              "          await google.colab.output.renderOutput(dataTable, element);\n",
              "          const docLink = document.createElement('div');\n",
              "          docLink.innerHTML = docLinkHtml;\n",
              "          element.appendChild(docLink);\n",
              "        }\n",
              "      </script>\n",
              "    </div>\n",
              "  </div>\n",
              "  "
            ],
            "text/plain": [
              "      CIC0 SM1_Dz(Z) GATS1i NdsCH NdssC  MLOGP   LC50\n",
              "0     3.26     0.829  1.676     0     1  1.453  3.770\n",
              "1    2.189      0.58  0.863     0     0  1.348  3.115\n",
              "2    2.125     0.638  0.831     0     0  1.348  3.531\n",
              "3    3.027     0.331  1.472     1     0  1.807  3.510\n",
              "4    2.094     0.827   0.86     0     0  1.886  5.390\n",
              "..     ...       ...    ...   ...   ...    ...    ...\n",
              "903  2.801     0.728  2.226     0     2  0.736  3.109\n",
              "904  3.652     0.872  0.867     2     3  3.983  4.040\n",
              "905  3.763     0.916  0.878     0     6  2.918  4.818\n",
              "906  2.831     1.393  1.077     0     1  0.906  5.317\n",
              "907  4.057     1.032  1.183     1     3  4.754  8.201\n",
              "\n",
              "[908 rows x 7 columns]"
            ]
          },
          "metadata": {},
          "execution_count": 7
        }
      ]
    },
    {
      "cell_type": "code",
      "source": [
        "#input correct variable names (identify explanatory and response variables)\n",
        "#6 molecular descriptors and 1 quantitative experimental response:\n",
        "#1) CIC0\n",
        "#2) SM1_Dz(Z)\n",
        "#3) GATS1i\n",
        "#4) NdsCH\n",
        "#5) NdssC\n",
        "#6) MLOGP\n",
        "#7) quantitative response, LC50 [-LOG(mol/L)]"
      ],
      "metadata": {
        "id": "ml0JQyTAfUqV"
      },
      "execution_count": null,
      "outputs": []
    },
    {
      "cell_type": "code",
      "source": [
        "# extract x and y\n",
        "x = fish_data.loc[:,'CIC0':'MLOGP'].values\n",
        "y = fish_data['LC50'].values"
      ],
      "metadata": {
        "id": "gZ9SFp-7aJJ5"
      },
      "execution_count": null,
      "outputs": []
    },
    {
      "cell_type": "code",
      "source": [
        "# we need a funciton defined that will perform KFold\n",
        "kf = KFold(n_splits=10,shuffle=True,random_state=123)\n",
        "#create pipeline function\n",
        "scale = StandardScaler()\n",
        "poly = PolynomialFeatures(degree=2)\n",
        "pipe = Pipeline([['Scaler',scale],['Polynomial Features',poly]])"
      ],
      "metadata": {
        "id": "H0gZQeE-aan3"
      },
      "execution_count": null,
      "outputs": []
    },
    {
      "cell_type": "code",
      "source": [
        "# we need the actual cross- validations\n",
        "score_train = []\n",
        "score_test = []\n",
        "#model = Ridge(alpha=0.5,fit_intercept=False)\n",
        "#model = Lasso(alpha=0.01,fit_intercept=False)\n",
        "model = ElasticNet(alpha = 0.01, fit_intercept=False)\n",
        "\n",
        "for idxtrain, idxtest in kf.split(x):\n",
        "  xtrain = x[idxtrain]\n",
        "  xtest = x[idxtest]\n",
        "  ytrain = y[idxtrain]\n",
        "  ytest = y[idxtest]\n",
        "  # here we apply the pipeline\n",
        "  xpolytrain = pipe.fit_transform(xtrain)\n",
        "  xpolytest = pipe.transform(xtest)\n",
        "  model.fit(xpolytrain,ytrain)\n",
        "  score_train.append(model.score(xpolytrain,ytrain))\n",
        "  score_test.append(model.score(xpolytest,ytest))"
      ],
      "metadata": {
        "id": "jGpMJ5pnbKuN"
      },
      "execution_count": null,
      "outputs": []
    },
    {
      "cell_type": "markdown",
      "source": [
        "**Ridge Model:**"
      ],
      "metadata": {
        "id": "NBOy_Tpnd6Ii"
      }
    },
    {
      "cell_type": "code",
      "source": [
        "# Ridge with degree 1\n",
        "print('The internal validation R2 score is : ' +str(np.mean(score_train)))\n",
        "print('The external validation R2 score is : ' +str(np.mean(score_test)))"
      ],
      "metadata": {
        "colab": {
          "base_uri": "https://localhost:8080/"
        },
        "id": "OP2YG8fHbbQQ",
        "outputId": "82f4d74f-4db3-4ea5-fc22-ebbafcd384bc"
      },
      "execution_count": null,
      "outputs": [
        {
          "output_type": "stream",
          "name": "stdout",
          "text": [
            "The internal validation R2 score is : 0.5775775243391577\n",
            "The external validation R2 score is : 0.5608669561823394\n"
          ]
        }
      ]
    },
    {
      "cell_type": "code",
      "source": [
        "# Ridge with degree 2, alpha = 0.01\n",
        "print('The internal validation R2 score is : ' +str(np.mean(score_train)))\n",
        "print('The external validation R2 score is : ' +str(np.mean(score_test)))"
      ],
      "metadata": {
        "colab": {
          "base_uri": "https://localhost:8080/"
        },
        "id": "IyMBc-U5bcYL",
        "outputId": "23c5ddf3-2735-4ec7-81be-7d1d4cd5d1de"
      },
      "execution_count": null,
      "outputs": [
        {
          "output_type": "stream",
          "name": "stdout",
          "text": [
            "The internal validation R2 score is : 0.6264843232288264\n",
            "The external validation R2 score is : 0.5666876561497886\n"
          ]
        }
      ]
    },
    {
      "cell_type": "code",
      "source": [
        "# Ridge with degree 2, alpha = 0.05\n",
        "print('The internal validation R2 score is : ' +str(np.mean(score_train)))\n",
        "print('The external validation R2 score is : ' +str(np.mean(score_test)))"
      ],
      "metadata": {
        "colab": {
          "base_uri": "https://localhost:8080/"
        },
        "id": "Qks5QUCCGasU",
        "outputId": "2c36683c-e5cb-4654-8148-8b6be1c72f5d"
      },
      "execution_count": null,
      "outputs": [
        {
          "output_type": "stream",
          "name": "stdout",
          "text": [
            "The internal validation R2 score is : 0.626484195162603\n",
            "The external validation R2 score is : 0.5666895383484363\n"
          ]
        }
      ]
    },
    {
      "cell_type": "code",
      "source": [
        "## Best alpha and degree ##\n",
        "# Ridge with degree 2, alpha = 0.5\n",
        "print('The internal validation R2 score is : ' +str(np.mean(score_train)))\n",
        "print('The external validation R2 score is : ' +str(np.mean(score_test)))"
      ],
      "metadata": {
        "colab": {
          "base_uri": "https://localhost:8080/"
        },
        "id": "zy4AHzw5GQAe",
        "outputId": "dd97f6dc-4592-411f-f767-85b82077d3b6"
      },
      "execution_count": null,
      "outputs": [
        {
          "output_type": "stream",
          "name": "stdout",
          "text": [
            "The internal validation R2 score is : 0.6264710871082877\n",
            "The external validation R2 score is : 0.5666968547810682\n"
          ]
        }
      ]
    },
    {
      "cell_type": "code",
      "source": [
        "# Ridge with degree 2, alpha = 0.1\n",
        "print('The internal validation R2 score is : ' +str(np.mean(score_train)))\n",
        "print('The external validation R2 score is : ' +str(np.mean(score_test)))"
      ],
      "metadata": {
        "colab": {
          "base_uri": "https://localhost:8080/"
        },
        "id": "xvoTUZbyF474",
        "outputId": "1c13644b-6a21-47c9-acad-73f6df50b5a3"
      },
      "execution_count": null,
      "outputs": [
        {
          "output_type": "stream",
          "name": "stdout",
          "text": [
            "The internal validation R2 score is : 0.626483795388108\n",
            "The external validation R2 score is : 0.5666916063128937\n"
          ]
        }
      ]
    },
    {
      "cell_type": "code",
      "source": [
        "# Ridge with degree 2, alpha = 1\n",
        "print('The internal validation R2 score is : ' +str(np.mean(score_train)))\n",
        "print('The external validation R2 score is : ' +str(np.mean(score_test)))"
      ],
      "metadata": {
        "colab": {
          "base_uri": "https://localhost:8080/"
        },
        "id": "Ppp-sVWJGDPP",
        "outputId": "d07c447c-bbc8-4e6f-9e09-6dc2f6f5e8de"
      },
      "execution_count": null,
      "outputs": [
        {
          "output_type": "stream",
          "name": "stdout",
          "text": [
            "The internal validation R2 score is : 0.6264317965151833\n",
            "The external validation R2 score is : 0.5666756350295151\n"
          ]
        }
      ]
    },
    {
      "cell_type": "code",
      "source": [
        "# Ridge with degree 3\n",
        "print('The internal validation R2 score is : ' +str(np.mean(score_train)))\n",
        "print('The external validation R2 score is : ' +str(np.mean(score_test)))"
      ],
      "metadata": {
        "colab": {
          "base_uri": "https://localhost:8080/"
        },
        "id": "4ihUuNzkbeng",
        "outputId": "938aff0b-b716-4bb8-900d-dc3c67e32dd5"
      },
      "execution_count": null,
      "outputs": [
        {
          "output_type": "stream",
          "name": "stdout",
          "text": [
            "The internal validation R2 score is : 0.7147484929390813\n",
            "The external validation R2 score is : 0.38114004578816874\n"
          ]
        }
      ]
    },
    {
      "cell_type": "markdown",
      "source": [
        "**Lasso Model:**"
      ],
      "metadata": {
        "id": "r7LAX0wjeCML"
      }
    },
    {
      "cell_type": "code",
      "source": [
        "# Lasso with degree 1\n",
        "print('The internal validation R2 score is : ' +str(np.mean(score_train)))\n",
        "print('The external validation R2 score is : ' +str(np.mean(score_test)))"
      ],
      "metadata": {
        "colab": {
          "base_uri": "https://localhost:8080/"
        },
        "id": "suI9AEAmdWZE",
        "outputId": "0234b57f-79fa-45c6-aff4-f1fba05fc603"
      },
      "execution_count": null,
      "outputs": [
        {
          "output_type": "stream",
          "name": "stdout",
          "text": [
            "The internal validation R2 score is : 0.5772965007255885\n",
            "The external validation R2 score is : 0.560868987869644\n"
          ]
        }
      ]
    },
    {
      "cell_type": "code",
      "source": [
        "## Best alpha and degree ##\n",
        "# Lasso with degree 2, alpha = 0.01\n",
        "print('The internal validation R2 score is : ' +str(np.mean(score_train)))\n",
        "print('The external validation R2 score is : ' +str(np.mean(score_test)))"
      ],
      "metadata": {
        "colab": {
          "base_uri": "https://localhost:8080/"
        },
        "id": "ArOsMe64dWnb",
        "outputId": "f669c2d2-c15c-499c-9ade-ef84da7844b5"
      },
      "execution_count": null,
      "outputs": [
        {
          "output_type": "stream",
          "name": "stdout",
          "text": [
            "The internal validation R2 score is : 0.6234911332892903\n",
            "The external validation R2 score is : 0.577527901610458\n"
          ]
        }
      ]
    },
    {
      "cell_type": "code",
      "source": [
        "# Lasso with degree 2, alpha = 0.05\n",
        "print('The internal validation R2 score is : ' +str(np.mean(score_train)))\n",
        "print('The external validation R2 score is : ' +str(np.mean(score_test)))"
      ],
      "metadata": {
        "colab": {
          "base_uri": "https://localhost:8080/"
        },
        "id": "pH4dEYpPHXw-",
        "outputId": "4b3b717f-d335-4979-9ee6-da68a7cb6efe"
      },
      "execution_count": null,
      "outputs": [
        {
          "output_type": "stream",
          "name": "stdout",
          "text": [
            "The internal validation R2 score is : 0.6010922769042617\n",
            "The external validation R2 score is : 0.5654063672218317\n"
          ]
        }
      ]
    },
    {
      "cell_type": "code",
      "source": [
        "# Lasso with degree 3\n",
        "print('The internal validation R2 score is : ' +str(np.mean(score_train)))\n",
        "print('The external validation R2 score is : ' +str(np.mean(score_test)))"
      ],
      "metadata": {
        "colab": {
          "base_uri": "https://localhost:8080/"
        },
        "id": "6E7ZSzK7dWyV",
        "outputId": "622d6aa7-4a1b-46de-a355-7136a42fa5d7"
      },
      "execution_count": null,
      "outputs": [
        {
          "output_type": "stream",
          "name": "stdout",
          "text": [
            "The internal validation R2 score is : 0.6984660110556208\n",
            "The external validation R2 score is : 0.5378464697451799\n"
          ]
        }
      ]
    },
    {
      "cell_type": "markdown",
      "source": [
        "**ElasticNet Model**"
      ],
      "metadata": {
        "id": "LOfzYU8AeHrH"
      }
    },
    {
      "cell_type": "code",
      "source": [
        "# ElasticNet with degree 1\n",
        "print('The internal validation R2 score is : ' +str(np.mean(score_train)))\n",
        "print('The external validation R2 score is : ' +str(np.mean(score_test)))"
      ],
      "metadata": {
        "colab": {
          "base_uri": "https://localhost:8080/"
        },
        "id": "PZbAY41idhI3",
        "outputId": "fa0e6f2f-9d5c-4186-93c9-005d5f9daae5"
      },
      "execution_count": null,
      "outputs": [
        {
          "output_type": "stream",
          "name": "stdout",
          "text": [
            "The internal validation R2 score is : 0.5771785098086142\n",
            "The external validation R2 score is : 0.560923248719645\n"
          ]
        }
      ]
    },
    {
      "cell_type": "code",
      "source": [
        "## Best alpha and degree ##\n",
        "# ElasticNet with degree 2, alpha = 0.01\n",
        "print('The internal validation R2 score is : ' +str(np.mean(score_train)))\n",
        "print('The external validation R2 score is : ' +str(np.mean(score_test)))"
      ],
      "metadata": {
        "colab": {
          "base_uri": "https://localhost:8080/"
        },
        "id": "nO9-hz18dhVU",
        "outputId": "f2bc80ed-57a5-4612-a229-1b1e93450a53"
      },
      "execution_count": null,
      "outputs": [
        {
          "output_type": "stream",
          "name": "stdout",
          "text": [
            "The internal validation R2 score is : 0.6241609382216913\n",
            "The external validation R2 score is : 0.5721267667369427\n"
          ]
        }
      ]
    },
    {
      "cell_type": "code",
      "source": [
        "# ElasticNet with degree 2, alpha = 0.05\n",
        "print('The internal validation R2 score is : ' +str(np.mean(score_train)))\n",
        "print('The external validation R2 score is : ' +str(np.mean(score_test)))"
      ],
      "metadata": {
        "colab": {
          "base_uri": "https://localhost:8080/"
        },
        "id": "lpKWSNxvH_Oh",
        "outputId": "c4ab6508-01fc-449c-f8dc-e082da1b1419"
      },
      "execution_count": null,
      "outputs": [
        {
          "output_type": "stream",
          "name": "stdout",
          "text": [
            "The internal validation R2 score is : 0.5965510920703345\n",
            "The external validation R2 score is : 0.5487381131294468\n"
          ]
        }
      ]
    },
    {
      "cell_type": "code",
      "source": [
        "# ElasticNet with degree 3\n",
        "print('The internal validation R2 score is : ' +str(np.mean(score_train)))\n",
        "print('The external validation R2 score is : ' +str(np.mean(score_test)))"
      ],
      "metadata": {
        "colab": {
          "base_uri": "https://localhost:8080/"
        },
        "id": "ZEu6Bqnxdhdi",
        "outputId": "7d083d7e-f71b-4cb7-b9ae-eb07ea2860c0"
      },
      "execution_count": null,
      "outputs": [
        {
          "output_type": "stream",
          "name": "stdout",
          "text": [
            "The internal validation R2 score is : 0.7043582836296391\n",
            "The external validation R2 score is : 0.5009396936364666\n"
          ]
        }
      ]
    },
    {
      "cell_type": "markdown",
      "source": [
        "**Answer:** The best degree for all three models was **degree = 2**. The alpha that achieved the best external validation for Ridge regression was 0.5, for Lasso it was 0.01, and for ElasticNet it was also 0.01. The highest external validation came from the Lasso model.\n",
        "\n",
        "Ridge external validation: 0.5666968547810682\n",
        "\n",
        "**Lasso external validation: 0.577527901610458**\n",
        "\n",
        "ElasticNet external validation: 0.5721267667369427"
      ],
      "metadata": {
        "id": "14-vpZ6eebbf"
      }
    }
  ]
}